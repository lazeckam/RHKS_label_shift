{
 "cells": [
  {
   "cell_type": "code",
   "execution_count": 1,
   "id": "cfccd55b",
   "metadata": {},
   "outputs": [],
   "source": [
    "import rpy2.robjects as robjects\n",
    "from rpy2.robjects import numpy2ri\n",
    "from rpy2.robjects import pandas2ri\n",
    "from rpy2.robjects.conversion import localconverter\n",
    "import numpy as np\n",
    "import pandas as pd"
   ]
  },
  {
   "cell_type": "code",
   "execution_count": 2,
   "id": "e9b15c32",
   "metadata": {},
   "outputs": [
    {
     "name": "stderr",
     "output_type": "stream",
     "text": [
      "R callback write-console: randomForest 4.7-1.2\n",
      "  \n",
      "R callback write-console: Type rfNews() to see new features/changes/bug fixes.\n",
      "  \n",
      "R callback write-console: Loading required package: spam\n",
      "  \n",
      "R callback write-console: Spam version 2.11-1 (2025-01-20) is loaded.\n",
      "Type 'help( Spam)' or 'demo( spam)' for a short introduction \n",
      "and overview of this package.\n",
      "Help for individual functions is also obtained by adding the\n",
      "suffix '.spam' to the function name, e.g. 'help( chol.spam)'.\n",
      "  \n",
      "R callback write-console: \n",
      "Attaching package: ‘spam’\n",
      "\n",
      "  \n",
      "R callback write-console: The following objects are masked from ‘package:base’:\n",
      "\n",
      "    backsolve, forwardsolve\n",
      "\n",
      "  \n",
      "R callback write-console: Loading required package: viridisLite\n",
      "  \n",
      "R callback write-console: \n",
      "Try help(fields) to get started.\n",
      "  \n",
      "R callback write-console: \n",
      "Attaching package: ‘FNN’\n",
      "\n",
      "  \n",
      "R callback write-console: The following objects are masked from ‘package:class’:\n",
      "\n",
      "    knn, knn.cv\n",
      "\n",
      "  \n"
     ]
    },
    {
     "data": {
      "text/html": [
       "\n",
       "        <span>ListVector with 2 elements.</span>\n",
       "        <table>\n",
       "        <tbody>\n",
       "        \n",
       "          <tr>\n",
       "            <th>\n",
       "            value\n",
       "            </th>\n",
       "            <td>\n",
       "            <rpy2.rinterface.SexpClosure object at 0x7bd45e8e4e90> [3]\n",
       "            </td>\n",
       "          </tr>\n",
       "        \n",
       "          <tr>\n",
       "            <th>\n",
       "            visible\n",
       "            </th>\n",
       "            <td>\n",
       "            <rpy2.rinterface.BoolSexpVector object at 0x7bd45e8e4e50> [10]\n",
       "            </td>\n",
       "          </tr>\n",
       "        \n",
       "        </tbody>\n",
       "        </table>\n",
       "        "
      ],
      "text/plain": [
       "<rpy2.robjects.vectors.ListVector object at 0x7bd45e96b250> [19]\n",
       "R classes: ('list',)\n",
       "[SexpClosure, BoolSexpVector]\n",
       "  value: <class 'rpy2.rinterface.SexpClosure'>\n",
       "  <rpy2.rinterface.SexpClosure object at 0x7bd45ef59290> [3]\n",
       "  visible: <class 'rpy2.rinterface.BoolSexpVector'>\n",
       "  <rpy2.rinterface.BoolSexpVector object at 0x7bd481002fd0> [10]"
      ]
     },
     "execution_count": 2,
     "metadata": {},
     "output_type": "execute_result"
    }
   ],
   "source": [
    "robjects.r['source']('../ratio_estimator/ratio/auxs_funcs.R')  "
   ]
  },
  {
   "cell_type": "code",
   "execution_count": 3,
   "id": "2a30c50d",
   "metadata": {},
   "outputs": [],
   "source": [
    "g_forman_random = robjects.globalenv['g.forman.random']"
   ]
  },
  {
   "cell_type": "code",
   "execution_count": 4,
   "id": "fb1aa97c",
   "metadata": {},
   "outputs": [],
   "source": [
    "def generate_sample_fig1(scale):\n",
    "    n_source_plus = int(200*scale)\n",
    "    n_source_minus = int(150*scale)\n",
    "    n_source = n_source_plus + n_source_minus\n",
    "    pi_source = n_source_plus/n_source\n",
    "\n",
    "    n_target_plus = int(25*scale)\n",
    "    n_target_minus = int(75*scale)\n",
    "    n_target = n_target_plus + n_target_minus\n",
    "    pi_target = n_target_plus/n_target\n",
    "\n",
    "    p_source_plus = np.random.multivariate_normal(mean=np.array([0,0]), cov=np.eye(2), size=(n_source_plus))\n",
    "    p_source_minus = np.random.multivariate_normal(mean=np.array([2,1]), cov=np.array([[2,1], [1,2]]), size=(n_source_minus))\n",
    "\n",
    "    p_target_plus = np.random.multivariate_normal(mean=np.array([0,0]), cov=np.eye(2), size=(n_target_plus))\n",
    "    p_target_minus = np.random.multivariate_normal(mean=np.array([2,1]), cov=np.array([[2,1], [1,2]]), size=(n_target_minus))\n",
    "\n",
    "    p_target = np.vstack((p_target_plus, p_target_minus))\n",
    "\n",
    "    return p_source_plus, p_source_minus, p_target"
   ]
  },
  {
   "cell_type": "code",
   "execution_count": 5,
   "id": "12dd59bd",
   "metadata": {},
   "outputs": [],
   "source": [
    "def generate_sample_fig2(scale):\n",
    "    n_source_plus = int(150*scale)\n",
    "    n_source_minus = int(200*scale)\n",
    "    n_source = n_source_plus + n_source_minus\n",
    "    pi_source = n_source_plus/n_source\n",
    "\n",
    "    n_target_plus = int(100*scale)\n",
    "    n_target_minus = int(150*scale)\n",
    "    n_target = n_target_plus + n_target_minus\n",
    "    pi_target = n_target_plus/n_target\n",
    "\n",
    "    p_source_plus = np.random.multivariate_normal(mean=np.array([0,0]), cov=np.eye(2), size=(n_source_plus))\n",
    "    p_source_minus = np.random.multivariate_normal(mean=np.array([2,1]), cov=np.array([[2,1], [1,2]]), size=(n_source_minus))\n",
    "\n",
    "    p_target_plus = np.random.multivariate_normal(mean=np.array([0,0]), cov=np.eye(2), size=(n_target_plus))\n",
    "    p_target_minus = np.random.multivariate_normal(mean=np.array([2,1]), cov=np.array([[2,1], [1,2]]), size=(n_target_minus))\n",
    "\n",
    "    p_target = np.vstack((p_target_plus, p_target_minus))\n",
    "\n",
    "    return p_source_plus, p_source_minus, p_target"
   ]
  },
  {
   "cell_type": "code",
   "execution_count": 6,
   "id": "d5d92f71",
   "metadata": {},
   "outputs": [],
   "source": [
    "p_source_plus, p_source_minus, p_target = generate_sample_fig2(1)\n",
    "p_source = np.vstack((p_source_plus, p_source_minus))\n",
    "y_source = np.concat((np.ones(p_source_plus.shape[0]), np.zeros(p_source_minus.shape[0])))"
   ]
  },
  {
   "cell_type": "code",
   "execution_count": 7,
   "id": "c2640719",
   "metadata": {},
   "outputs": [],
   "source": [
    "df_source = pd.DataFrame(p_source)\n",
    "df_source.columns = ['x1', 'x2']\n",
    "df_target = pd.DataFrame(p_target)\n",
    "df_target.columns = ['x1', 'x2']\n",
    "df_y_source = pd.DataFrame({'response': y_source})"
   ]
  },
  {
   "cell_type": "code",
   "execution_count": 8,
   "id": "7b5c8eea",
   "metadata": {},
   "outputs": [
    {
     "data": {
      "text/plain": [
       "((350, 2), (350,))"
      ]
     },
     "execution_count": 8,
     "metadata": {},
     "output_type": "execute_result"
    }
   ],
   "source": [
    "p_source.shape, y_source.shape"
   ]
  },
  {
   "cell_type": "code",
   "execution_count": 9,
   "id": "c7d22ed5",
   "metadata": {},
   "outputs": [],
   "source": [
    "extra = robjects.ListVector({'n.tree': robjects.IntVector([100])})"
   ]
  },
  {
   "cell_type": "code",
   "execution_count": 10,
   "id": "9d9b35e9",
   "metadata": {},
   "outputs": [],
   "source": [
    "# with localconverter(robjects.default_converter + pandas2ri.converter + numpy2ri.converter):\n",
    "#     a = g_forman_random(y_source, df_source, df_target, extra)"
   ]
  },
  {
   "cell_type": "code",
   "execution_count": 11,
   "id": "7a9acb95",
   "metadata": {},
   "outputs": [],
   "source": [
    "g_kernel_leave = robjects.globalenv['g.kernel.leave']"
   ]
  },
  {
   "cell_type": "code",
   "execution_count": 12,
   "id": "1b0952df",
   "metadata": {},
   "outputs": [],
   "source": [
    "extra = robjects.ListVector({'n.tree': robjects.IntVector([100])})"
   ]
  },
  {
   "cell_type": "code",
   "execution_count": 13,
   "id": "2f74ee0b",
   "metadata": {},
   "outputs": [],
   "source": [
    "# with localconverter(robjects.default_converter + pandas2ri.converter + numpy2ri.converter):\n",
    "#     a = g_kernel_leave(y_source, df_source, df_target)"
   ]
  },
  {
   "cell_type": "code",
   "execution_count": 14,
   "id": "cacf8e88",
   "metadata": {},
   "outputs": [],
   "source": [
    "gaussian_kernel = robjects.globalenv['gaussian.kernel']"
   ]
  },
  {
   "cell_type": "code",
   "execution_count": 15,
   "id": "d3e102c4",
   "metadata": {},
   "outputs": [],
   "source": [
    "gaussian_kernel = robjects.r['gaussian.kernel']"
   ]
  },
  {
   "cell_type": "code",
   "execution_count": 21,
   "id": "d39fd8e9",
   "metadata": {},
   "outputs": [],
   "source": [
    "g_list = robjects.ListVector({\n",
    "    'first_method': robjects.ListVector({\n",
    "        'func':  robjects.r['g.kernel.leave'], # robjects.StrVector(['g.kernel.leave'])\n",
    "        'extra': robjects.ListVector({\n",
    "            'lambda': robjects.FloatVector([0.001]),\n",
    "            'kernel': robjects.r['gaussian.kernel']\n",
    "    })\n",
    "    }),\n",
    "    'second_method': robjects.ListVector({\n",
    "        'func':  robjects.r['g.forman.random'], # robjects.StrVector(['g.kernel.leave'])\n",
    "        'extra':robjects.ListVector({'n.tree': robjects.IntVector([100])})\n",
    "    })\n",
    "})\n"
   ]
  },
  {
   "cell_type": "code",
   "execution_count": 22,
   "id": "18c2859a",
   "metadata": {},
   "outputs": [],
   "source": [
    "quantification_prior_shift = robjects.globalenv['quantification.prior.shift']"
   ]
  },
  {
   "cell_type": "code",
   "execution_count": 23,
   "id": "741b0244",
   "metadata": {},
   "outputs": [
    {
     "name": "stdout",
     "output_type": "stream",
     "text": [
      "[1] \"first\"\n",
      "[1] \"first\"\n",
      "[1] \"loop\"\n",
      "[1] 1\n",
      "[1] \"loop\"\n",
      "[1] 1\n",
      "[1] \"loop\"\n",
      "[1] 2\n"
     ]
    }
   ],
   "source": [
    "with localconverter(robjects.default_converter + pandas2ri.converter + numpy2ri.converter):\n",
    "    a = quantification_prior_shift(df_source, y_source, df_target, g_list)"
   ]
  },
  {
   "cell_type": "code",
   "execution_count": 24,
   "id": "f66b64e3",
   "metadata": {},
   "outputs": [
    {
     "data": {
      "text/plain": [
       "rec.array([('first_method', 0.34740263, 0.2553258, 0.12186855, 0.50602583, 0.03978192, 0.05731168, 0.00303668),\n",
       "           ('second_method', 0.34693878, 0.42     , 0.25      , 0.74      , 0.18844221, 0.19369128, 0.00639701)],\n",
       "          dtype=[('method', '<U13'), ('estimative', '<f8'), ('mu_g', '<f8'), ('mu_g0', '<f8'), ('mu_g1', '<f8'), ('var_g0', '<f8'), ('var_g1', '<f8'), ('var', '<f8')])"
      ]
     },
     "execution_count": 24,
     "metadata": {},
     "output_type": "execute_result"
    }
   ],
   "source": [
    "a[0]"
   ]
  },
  {
   "cell_type": "code",
   "execution_count": 25,
   "id": "4e73e6f0",
   "metadata": {},
   "outputs": [],
   "source": [
    "import numpy as np\n",
    "from tqdm import tqdm\n",
    "import matplotlib.pyplot as plt\n",
    "import seaborn as sns\n",
    "import pandas as pd\n",
    "import itertools\n",
    "\n",
    "from kernels_class import *\n",
    "from rbf_kernel import *\n",
    "from generation import *"
   ]
  },
  {
   "cell_type": "code",
   "execution_count": 26,
   "id": "702a837b",
   "metadata": {},
   "outputs": [
    {
     "data": {
      "text/plain": [
       "(np.float64(0.3684441819260186), np.float64(0.3736160455033683))"
      ]
     },
     "execution_count": 26,
     "metadata": {},
     "output_type": "execute_result"
    }
   ],
   "source": [
    "est_tmp = estimator_RHKS(p_target, p_source_plus, p_source_minus, kernel_params={'gamma': 1/2})\n",
    "est_tmp.estimate_pi_nrm()\n",
    "est_tmp.estimate_pi_ipr()\n",
    "\n",
    "est_tmp.pi_nrm, est_tmp.pi_ipr"
   ]
  },
  {
   "cell_type": "code",
   "execution_count": null,
   "id": "186d30e4",
   "metadata": {},
   "outputs": [
    {
     "data": {
      "text/plain": [
       "(np.float64(0.003201927576972918), np.float64(0.19609569046826916))"
      ]
     },
     "execution_count": 29,
     "metadata": {},
     "output_type": "execute_result"
    }
   ],
   "source": [
    "est_tmp.compute_K2()\n",
    "est_tmp.compute_tau_plug_in()\n",
    "est_tmp.compute_tau_explicit()\n",
    "\n",
    "est_tmp.estimate_variance_explicit()\n",
    "est_tmp.estimate_variance_plug_in()\n",
    "\n",
    "est_tmp.var_plug_in*est_tmp.r_n, est_tmp.var_explicit*est_tmp.r_n"
   ]
  }
 ],
 "metadata": {
  "kernelspec": {
   "display_name": "rhks",
   "language": "python",
   "name": "python3"
  },
  "language_info": {
   "codemirror_mode": {
    "name": "ipython",
    "version": 3
   },
   "file_extension": ".py",
   "mimetype": "text/x-python",
   "name": "python",
   "nbconvert_exporter": "python",
   "pygments_lexer": "ipython3",
   "version": "3.13.5"
  }
 },
 "nbformat": 4,
 "nbformat_minor": 5
}
