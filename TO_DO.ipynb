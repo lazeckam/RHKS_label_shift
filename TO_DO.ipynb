{
 "cells": [
  {
   "cell_type": "markdown",
   "id": "169d4d75",
   "metadata": {},
   "source": [
    "Simulation ideas:\n",
    "\n",
    "- comparison U and V\n",
    "- convergence and comparison between plug-in and explicit -> Consistency of an estimator of the asymptotic variance\n",
    "- changing lambdas [varying n+, n-, n']\n",
    "- comparison with the true asymptotic variance for gaussian\n",
    "- varying p_target"
   ]
  },
  {
   "cell_type": "markdown",
   "id": "35ff1466",
   "metadata": {},
   "source": [
    "11.08 conclusions:\n",
    "\n",
    "- use U est of pi\n",
    "- use plug-in est of as. variance\n",
    "- compare: 1. emp. var with 2. est. as. var and 3. true as. var for gaussian\n",
    "\n",
    "- next: implement those competing estimators of _Izbicki_\n"
   ]
  },
  {
   "cell_type": "markdown",
   "id": "24ba1489",
   "metadata": {},
   "source": []
  }
 ],
 "metadata": {
  "language_info": {
   "name": "python"
  }
 },
 "nbformat": 4,
 "nbformat_minor": 5
}
