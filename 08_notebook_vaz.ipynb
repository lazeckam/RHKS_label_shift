{
 "cells": [
  {
   "cell_type": "code",
   "execution_count": 1,
   "id": "0e6620bf",
   "metadata": {},
   "outputs": [],
   "source": [
    "# from RHKS_estimators import *\n",
    "# from AC_estimators import *\n",
    "# from kernels_class import *"
   ]
  },
  {
   "cell_type": "code",
   "execution_count": 2,
   "id": "b40180ed",
   "metadata": {},
   "outputs": [],
   "source": [
    "import sys\n",
    "sys.path.append(\"estimators\")"
   ]
  },
  {
   "cell_type": "code",
   "execution_count": 3,
   "id": "ba9eede2",
   "metadata": {},
   "outputs": [
    {
     "name": "stderr",
     "output_type": "stream",
     "text": [
      "R callback write-console: randomForest 4.7-1.2\n",
      "  \n",
      "R callback write-console: Type rfNews() to see new features/changes/bug fixes.\n",
      "  \n",
      "R callback write-console: Loading required package: spam\n",
      "  \n",
      "R callback write-console: Spam version 2.11-1 (2025-01-20) is loaded.\n",
      "Type 'help( Spam)' or 'demo( spam)' for a short introduction \n",
      "and overview of this package.\n",
      "Help for individual functions is also obtained by adding the\n",
      "suffix '.spam' to the function name, e.g. 'help( chol.spam)'.\n",
      "  \n",
      "R callback write-console: \n",
      "Attaching package: ‘spam’\n",
      "\n",
      "  \n",
      "R callback write-console: The following objects are masked from ‘package:base’:\n",
      "\n",
      "    backsolve, forwardsolve\n",
      "\n",
      "  \n",
      "R callback write-console: Loading required package: viridisLite\n",
      "  \n",
      "R callback write-console: \n",
      "Try help(fields) to get started.\n",
      "  \n",
      "R callback write-console: \n",
      "Attaching package: ‘FNN’\n",
      "\n",
      "  \n",
      "R callback write-console: The following objects are masked from ‘package:class’:\n",
      "\n",
      "    knn, knn.cv\n",
      "\n",
      "  \n"
     ]
    }
   ],
   "source": [
    "from estimators_AC_Vaz import *"
   ]
  },
  {
   "cell_type": "code",
   "execution_count": 4,
   "id": "ee101aab",
   "metadata": {},
   "outputs": [],
   "source": [
    "def generate_sample_fig2(scale):\n",
    "    n_source_plus = int(150)\n",
    "    n_source_minus = int(200)\n",
    "    n_source = n_source_plus + n_source_minus\n",
    "    pi_source = n_source_plus/n_source\n",
    "\n",
    "    n_target_plus = int(100*scale)\n",
    "    n_target_minus = int(150*scale)\n",
    "    n_target = n_target_plus + n_target_minus\n",
    "    pi_target = n_target_plus/n_target\n",
    "\n",
    "    p_source_plus = np.random.multivariate_normal(mean=np.array([0,0]), cov=np.eye(2), size=(n_source_plus))\n",
    "    p_source_minus = np.random.multivariate_normal(mean=np.array([2,1]), cov=np.array([[2,1], [1,2]]), size=(n_source_minus))\n",
    "\n",
    "    p_target_plus = np.random.multivariate_normal(mean=np.array([0,0]), cov=np.eye(2), size=(n_target_plus))\n",
    "    p_target_minus = np.random.multivariate_normal(mean=np.array([2,1]), cov=np.array([[2,1], [1,2]]), size=(n_target_minus))\n",
    "\n",
    "    p_target = np.vstack((p_target_plus, p_target_minus))\n",
    "\n",
    "    return p_source_plus, p_source_minus, p_target"
   ]
  },
  {
   "cell_type": "code",
   "execution_count": 5,
   "id": "6d2ec243",
   "metadata": {},
   "outputs": [],
   "source": [
    "p_source_plus, p_source_minus, p_target = generate_sample_fig2(1)"
   ]
  },
  {
   "cell_type": "code",
   "execution_count": 6,
   "id": "55d44c35",
   "metadata": {},
   "outputs": [],
   "source": [
    "# from generation import *"
   ]
  },
  {
   "cell_type": "code",
   "execution_count": 7,
   "id": "a2fdcb48",
   "metadata": {},
   "outputs": [],
   "source": [
    "# p_source_plus, p_source_minus, p_target = generate_sample_Nstd_Nstd_CC(5, 1, 250, 250, 300, 0.2, 123)"
   ]
  },
  {
   "cell_type": "code",
   "execution_count": 8,
   "id": "a23ab67e",
   "metadata": {},
   "outputs": [],
   "source": [
    "mod = estimator_AC_Vaz(p_target, p_source_plus, p_source_minus, g='g.bella.random')\n",
    "mod.compute_basic_simulations()"
   ]
  },
  {
   "cell_type": "code",
   "execution_count": 10,
   "id": "340588b6",
   "metadata": {},
   "outputs": [
    {
     "data": {
      "text/plain": [
       "(np.float64(0.42327582894686283), np.float64(0.003956204472327501))"
      ]
     },
     "execution_count": 10,
     "metadata": {},
     "output_type": "execute_result"
    }
   ],
   "source": [
    "mod.pi_Vaz, mod.var_Vaz_n"
   ]
  },
  {
   "cell_type": "code",
   "execution_count": 9,
   "id": "c88ec1f6",
   "metadata": {},
   "outputs": [
    {
     "ename": "NameError",
     "evalue": "name 'estimator_Vaz' is not defined",
     "output_type": "error",
     "traceback": [
      "\u001b[31m---------------------------------------------------------------------------\u001b[39m",
      "\u001b[31mNameError\u001b[39m                                 Traceback (most recent call last)",
      "\u001b[36mCell\u001b[39m\u001b[36m \u001b[39m\u001b[32mIn[9]\u001b[39m\u001b[32m, line 1\u001b[39m\n\u001b[32m----> \u001b[39m\u001b[32m1\u001b[39m mod = \u001b[43mestimator_Vaz\u001b[49m(p_target, p_source_plus, p_source_minus)\n\u001b[32m      2\u001b[39m mod.compute_basic_simulations()\n",
      "\u001b[31mNameError\u001b[39m: name 'estimator_Vaz' is not defined"
     ]
    }
   ],
   "source": [
    "mod = estimator_Vaz(p_target, p_source_plus, p_source_minus)\n",
    "mod.compute_basic_simulations()"
   ]
  },
  {
   "cell_type": "code",
   "execution_count": null,
   "id": "f1ccc673",
   "metadata": {},
   "outputs": [
    {
     "data": {
      "text/plain": [
       "(np.float64(0.19930549950144774), np.float64(0.00105440672567233))"
      ]
     },
     "execution_count": 27,
     "metadata": {},
     "output_type": "execute_result"
    }
   ],
   "source": [
    "mod.pi_Vaz, mod.var_Vaz_n"
   ]
  },
  {
   "cell_type": "code",
   "execution_count": null,
   "id": "317a46dd",
   "metadata": {},
   "outputs": [],
   "source": [
    "mod = estimator_RHKS(p_target, p_source_plus, p_source_minus)\n",
    "mod.compute_basic_simulations()"
   ]
  },
  {
   "cell_type": "code",
   "execution_count": null,
   "id": "044614b1",
   "metadata": {},
   "outputs": [
    {
     "data": {
      "text/plain": [
       "(np.float64(0.2243039661776406),\n",
       " np.float64(0.21350752210780385),\n",
       " np.float64(0.001424902242881977))"
      ]
     },
     "execution_count": 29,
     "metadata": {},
     "output_type": "execute_result"
    }
   ],
   "source": [
    "mod.pi_ipr, mod.pi_nrm, mod.var_plug_in_n"
   ]
  },
  {
   "cell_type": "code",
   "execution_count": null,
   "id": "48125625",
   "metadata": {},
   "outputs": [],
   "source": [
    "mod = estimator_AC(p_target, p_source_plus, p_source_minus, g ='LogisticRegression')\n",
    "mod.compute_basic_simulations()"
   ]
  },
  {
   "cell_type": "code",
   "execution_count": null,
   "id": "8b0dc730",
   "metadata": {},
   "outputs": [
    {
     "data": {
      "text/plain": [
       "(np.float64(0.20388312518480126), np.float64(0.0012214147764924154))"
      ]
     },
     "execution_count": 31,
     "metadata": {},
     "output_type": "execute_result"
    }
   ],
   "source": [
    "mod.pi_Bella, mod.var_Bella_n"
   ]
  },
  {
   "cell_type": "code",
   "execution_count": null,
   "id": "c4bf8d79",
   "metadata": {},
   "outputs": [
    {
     "data": {
      "text/plain": [
       "(np.float64(0.2282051282051282), np.float64(0.0015544477836001694))"
      ]
     },
     "execution_count": 32,
     "metadata": {},
     "output_type": "execute_result"
    }
   ],
   "source": [
    "mod.pi_Forman, mod.var_Forman_n"
   ]
  },
  {
   "cell_type": "code",
   "execution_count": null,
   "id": "268aba09",
   "metadata": {},
   "outputs": [],
   "source": []
  }
 ],
 "metadata": {
  "kernelspec": {
   "display_name": "rhks",
   "language": "python",
   "name": "python3"
  },
  "language_info": {
   "codemirror_mode": {
    "name": "ipython",
    "version": 3
   },
   "file_extension": ".py",
   "mimetype": "text/x-python",
   "name": "python",
   "nbconvert_exporter": "python",
   "pygments_lexer": "ipython3",
   "version": "3.13.5"
  }
 },
 "nbformat": 4,
 "nbformat_minor": 5
}
