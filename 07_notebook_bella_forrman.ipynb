{
 "cells": [
  {
   "cell_type": "code",
   "execution_count": 1,
   "id": "c0b5118c",
   "metadata": {},
   "outputs": [],
   "source": [
    "from other_estimators import *"
   ]
  },
  {
   "cell_type": "code",
   "execution_count": 2,
   "id": "e4f69597",
   "metadata": {},
   "outputs": [],
   "source": [
    "def generate_sample_fig1(scale):\n",
    "    n_source_plus = int(200*scale)\n",
    "    n_source_minus = int(150*scale)\n",
    "    n_source = n_source_plus + n_source_minus\n",
    "    pi_source = n_source_plus/n_source\n",
    "\n",
    "    n_target_plus = int(25*scale)\n",
    "    n_target_minus = int(75*scale)\n",
    "    n_target = n_target_plus + n_target_minus\n",
    "    pi_target = n_target_plus/n_target\n",
    "\n",
    "    p_source_plus = np.random.multivariate_normal(mean=np.array([0,0]), cov=np.eye(2), size=(n_source_plus))\n",
    "    p_source_minus = np.random.multivariate_normal(mean=np.array([2,1]), cov=np.array([[2,1], [1,2]]), size=(n_source_minus))\n",
    "\n",
    "    p_target_plus = np.random.multivariate_normal(mean=np.array([0,0]), cov=np.eye(2), size=(n_target_plus))\n",
    "    p_target_minus = np.random.multivariate_normal(mean=np.array([2,1]), cov=np.array([[2,1], [1,2]]), size=(n_target_minus))\n",
    "\n",
    "    p_target = np.vstack((p_target_plus, p_target_minus))\n",
    "\n",
    "    return p_source_plus, p_source_minus, p_target"
   ]
  },
  {
   "cell_type": "code",
   "execution_count": 9,
   "id": "57cc27fc",
   "metadata": {},
   "outputs": [],
   "source": [
    "p_source_plus, p_source_minus, p_target = generate_sample_fig1(10)"
   ]
  },
  {
   "cell_type": "code",
   "execution_count": null,
   "id": "642057a2",
   "metadata": {},
   "outputs": [],
   "source": []
  },
  {
   "cell_type": "code",
   "execution_count": 10,
   "id": "8cffa31e",
   "metadata": {},
   "outputs": [],
   "source": [
    "mod = estimator_AC(p_source_plus, p_source_minus, p_target, g ='LogisticRegression')"
   ]
  },
  {
   "cell_type": "code",
   "execution_count": 11,
   "id": "269bc7e0",
   "metadata": {},
   "outputs": [],
   "source": [
    "mod.fit_and_predict()\n",
    "mod.compute_mu_Bella()\n",
    "mod.compute_var_Bella()\n",
    "mod.estimate_pi_Bella()\n",
    "mod.estimate_variance_Bella()"
   ]
  },
  {
   "cell_type": "code",
   "execution_count": 12,
   "id": "c4df15d2",
   "metadata": {},
   "outputs": [
    {
     "data": {
      "text/plain": [
       "(np.float64(0.2929833958221746), np.float64(0.0008122262666169712))"
      ]
     },
     "execution_count": 12,
     "metadata": {},
     "output_type": "execute_result"
    }
   ],
   "source": [
    "mod.pi_Bella, mod.var_Bella"
   ]
  },
  {
   "cell_type": "code",
   "execution_count": null,
   "id": "07943d55",
   "metadata": {},
   "outputs": [],
   "source": []
  }
 ],
 "metadata": {
  "kernelspec": {
   "display_name": "rhks",
   "language": "python",
   "name": "python3"
  },
  "language_info": {
   "codemirror_mode": {
    "name": "ipython",
    "version": 3
   },
   "file_extension": ".py",
   "mimetype": "text/x-python",
   "name": "python",
   "nbconvert_exporter": "python",
   "pygments_lexer": "ipython3",
   "version": "3.13.5"
  }
 },
 "nbformat": 4,
 "nbformat_minor": 5
}
