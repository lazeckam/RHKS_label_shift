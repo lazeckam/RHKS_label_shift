{
 "cells": [
  {
   "cell_type": "code",
   "execution_count": 27,
   "id": "c0b5118c",
   "metadata": {},
   "outputs": [],
   "source": [
    "from other_estimators import *\n",
    "import matplotlib.pyplot as plt"
   ]
  },
  {
   "cell_type": "code",
   "execution_count": 2,
   "id": "e4f69597",
   "metadata": {},
   "outputs": [],
   "source": [
    "def generate_sample_fig1(scale):\n",
    "    n_source_plus = int(200*scale)\n",
    "    n_source_minus = int(150*scale)\n",
    "    n_source = n_source_plus + n_source_minus\n",
    "    pi_source = n_source_plus/n_source\n",
    "\n",
    "    n_target_plus = int(25*scale)\n",
    "    n_target_minus = int(75*scale)\n",
    "    n_target = n_target_plus + n_target_minus\n",
    "    pi_target = n_target_plus/n_target\n",
    "\n",
    "    p_source_plus = np.random.multivariate_normal(mean=np.array([0,0]), cov=np.eye(2), size=(n_source_plus))\n",
    "    p_source_minus = np.random.multivariate_normal(mean=np.array([2,1]), cov=np.array([[2,1], [1,2]]), size=(n_source_minus))\n",
    "\n",
    "    p_target_plus = np.random.multivariate_normal(mean=np.array([0,0]), cov=np.eye(2), size=(n_target_plus))\n",
    "    p_target_minus = np.random.multivariate_normal(mean=np.array([2,1]), cov=np.array([[2,1], [1,2]]), size=(n_target_minus))\n",
    "\n",
    "    p_target = np.vstack((p_target_plus, p_target_minus))\n",
    "\n",
    "    return p_source_plus, p_source_minus, p_target"
   ]
  },
  {
   "cell_type": "code",
   "execution_count": 5,
   "id": "57cc27fc",
   "metadata": {},
   "outputs": [],
   "source": [
    "p_source_plus, p_source_minus, p_target = generate_sample_fig1(1)"
   ]
  },
  {
   "cell_type": "code",
   "execution_count": null,
   "id": "642057a2",
   "metadata": {},
   "outputs": [],
   "source": [
    "mod2 = estimator_AC(p_source_plus, p_source_minus, p_target, g ='LogisticRegression')"
   ]
  },
  {
   "cell_type": "code",
   "execution_count": 13,
   "id": "8cffa31e",
   "metadata": {},
   "outputs": [],
   "source": [
    "mod2 = estimator_AC(p_source_plus, p_source_minus, p_target, g ='LogisticRegression')"
   ]
  },
  {
   "cell_type": "code",
   "execution_count": 14,
   "id": "269bc7e0",
   "metadata": {},
   "outputs": [],
   "source": [
    "mod2.fit_and_predict()\n",
    "mod2.compute_mu_Bella()\n",
    "mod2.compute_var_Bella()\n",
    "mod2.estimate_pi_Bella()\n",
    "mod2.estimate_variance_Bella()"
   ]
  },
  {
   "cell_type": "code",
   "execution_count": 15,
   "id": "c4df15d2",
   "metadata": {},
   "outputs": [
    {
     "data": {
      "text/plain": [
       "(np.float64(0.2166666666666666), np.float64(0.009127466158782979))"
      ]
     },
     "execution_count": 15,
     "metadata": {},
     "output_type": "execute_result"
    }
   ],
   "source": [
    "mod2.pi_Bella, mod2.var_Bella"
   ]
  },
  {
   "cell_type": "code",
   "execution_count": 9,
   "id": "07943d55",
   "metadata": {},
   "outputs": [],
   "source": [
    "mod = estimator_AC(p_source_plus, p_source_minus, p_target)"
   ]
  },
  {
   "cell_type": "code",
   "execution_count": 10,
   "id": "1e7e683f",
   "metadata": {},
   "outputs": [],
   "source": [
    "mod.fit_and_predict()\n",
    "mod.compute_mu_Bella()\n",
    "mod.compute_var_Bella()\n",
    "mod.estimate_pi_Bella()\n",
    "mod.estimate_variance_Bella()"
   ]
  },
  {
   "cell_type": "code",
   "execution_count": 23,
   "id": "ba6745ab",
   "metadata": {},
   "outputs": [],
   "source": [
    "mod.compute_mu_Forman()\n",
    "mod.estimate_pi_Forman()"
   ]
  },
  {
   "cell_type": "code",
   "execution_count": 11,
   "id": "e4a47e8e",
   "metadata": {},
   "outputs": [
    {
     "data": {
      "text/plain": [
       "(np.float64(0.033898305084745756), np.float64(0.015233606799783209))"
      ]
     },
     "execution_count": 11,
     "metadata": {},
     "output_type": "execute_result"
    }
   ],
   "source": [
    "mod.pi_Bella, mod.var_Bella"
   ]
  },
  {
   "cell_type": "code",
   "execution_count": 31,
   "id": "e37b726f",
   "metadata": {},
   "outputs": [
    {
     "data": {
      "text/plain": [
       "[<matplotlib.lines.Line2D at 0x711631a68cd0>]"
      ]
     },
     "execution_count": 31,
     "metadata": {},
     "output_type": "execute_result"
    },
    {
     "data": {
      "image/png": "[encoded data removed]",
      "text/plain": [
       "<Figure size 640x480 with 1 Axes>"
      ]
     },
     "metadata": {},
     "output_type": "display_data"
    }
   ],
   "source": [
    "plt.plot(mod.y_proba_predicted_source_negative, mod2.y_proba_predicted_source_negative, 'o')"
   ]
  },
  {
   "cell_type": "code",
   "execution_count": 17,
   "id": "b4ff25e0",
   "metadata": {},
   "outputs": [
    {
     "data": {
      "text/html": [
       "<div>\n",
       "<style scoped>\n",
       "    .dataframe tbody tr th:only-of-type {\n",
       "        vertical-align: middle;\n",
       "    }\n",
       "\n",
       "    .dataframe tbody tr th {\n",
       "        vertical-align: top;\n",
       "    }\n",
       "\n",
       "    .dataframe thead th {\n",
       "        text-align: right;\n",
       "    }\n",
       "</style>\n",
       "<table border=\"1\" class=\"dataframe\">\n",
       "  <thead>\n",
       "    <tr style=\"text-align: right;\">\n",
       "      <th>col_0</th>\n",
       "      <th>0.0</th>\n",
       "      <th>1.0</th>\n",
       "    </tr>\n",
       "    <tr>\n",
       "      <th>row_0</th>\n",
       "      <th></th>\n",
       "      <th></th>\n",
       "    </tr>\n",
       "  </thead>\n",
       "  <tbody>\n",
       "    <tr>\n",
       "      <th>0.0</th>\n",
       "      <td>56</td>\n",
       "      <td>9</td>\n",
       "    </tr>\n",
       "    <tr>\n",
       "      <th>1.0</th>\n",
       "      <td>3</td>\n",
       "      <td>32</td>\n",
       "    </tr>\n",
       "  </tbody>\n",
       "</table>\n",
       "</div>"
      ],
      "text/plain": [
       "col_0  0.0  1.0\n",
       "row_0          \n",
       "0.0     56    9\n",
       "1.0      3   32"
      ]
     },
     "execution_count": 17,
     "metadata": {},
     "output_type": "execute_result"
    }
   ],
   "source": [
    "import pandas as pd\n",
    "pd.crosstab(mod.y_predicted_target, mod2.y_predicted_target)"
   ]
  },
  {
   "cell_type": "code",
   "execution_count": 18,
   "id": "9efef9f2",
   "metadata": {},
   "outputs": [
    {
     "data": {
      "text/html": [
       "<div>\n",
       "<style scoped>\n",
       "    .dataframe tbody tr th:only-of-type {\n",
       "        vertical-align: middle;\n",
       "    }\n",
       "\n",
       "    .dataframe tbody tr th {\n",
       "        vertical-align: top;\n",
       "    }\n",
       "\n",
       "    .dataframe thead th {\n",
       "        text-align: right;\n",
       "    }\n",
       "</style>\n",
       "<table border=\"1\" class=\"dataframe\">\n",
       "  <thead>\n",
       "    <tr style=\"text-align: right;\">\n",
       "      <th>col_0</th>\n",
       "      <th>0.0</th>\n",
       "      <th>1.0</th>\n",
       "    </tr>\n",
       "    <tr>\n",
       "      <th>row_0</th>\n",
       "      <th></th>\n",
       "      <th></th>\n",
       "    </tr>\n",
       "  </thead>\n",
       "  <tbody>\n",
       "    <tr>\n",
       "      <th>0.0</th>\n",
       "      <td>94</td>\n",
       "      <td>6</td>\n",
       "    </tr>\n",
       "    <tr>\n",
       "      <th>1.0</th>\n",
       "      <td>14</td>\n",
       "      <td>36</td>\n",
       "    </tr>\n",
       "  </tbody>\n",
       "</table>\n",
       "</div>"
      ],
      "text/plain": [
       "col_0  0.0  1.0\n",
       "row_0          \n",
       "0.0     94    6\n",
       "1.0     14   36"
      ]
     },
     "execution_count": 18,
     "metadata": {},
     "output_type": "execute_result"
    }
   ],
   "source": [
    "import pandas as pd\n",
    "pd.crosstab(mod.y_predicted_source_negative, mod2.y_predicted_source_negative)"
   ]
  },
  {
   "cell_type": "code",
   "execution_count": 19,
   "id": "d7b7bf3e",
   "metadata": {},
   "outputs": [
    {
     "data": {
      "text/html": [
       "<div>\n",
       "<style scoped>\n",
       "    .dataframe tbody tr th:only-of-type {\n",
       "        vertical-align: middle;\n",
       "    }\n",
       "\n",
       "    .dataframe tbody tr th {\n",
       "        vertical-align: top;\n",
       "    }\n",
       "\n",
       "    .dataframe thead th {\n",
       "        text-align: right;\n",
       "    }\n",
       "</style>\n",
       "<table border=\"1\" class=\"dataframe\">\n",
       "  <thead>\n",
       "    <tr style=\"text-align: right;\">\n",
       "      <th>col_0</th>\n",
       "      <th>0.0</th>\n",
       "      <th>1.0</th>\n",
       "    </tr>\n",
       "    <tr>\n",
       "      <th>row_0</th>\n",
       "      <th></th>\n",
       "      <th></th>\n",
       "    </tr>\n",
       "  </thead>\n",
       "  <tbody>\n",
       "    <tr>\n",
       "      <th>0.0</th>\n",
       "      <td>18</td>\n",
       "      <td>17</td>\n",
       "    </tr>\n",
       "    <tr>\n",
       "      <th>1.0</th>\n",
       "      <td>6</td>\n",
       "      <td>159</td>\n",
       "    </tr>\n",
       "  </tbody>\n",
       "</table>\n",
       "</div>"
      ],
      "text/plain": [
       "col_0  0.0  1.0\n",
       "row_0          \n",
       "0.0     18   17\n",
       "1.0      6  159"
      ]
     },
     "execution_count": 19,
     "metadata": {},
     "output_type": "execute_result"
    }
   ],
   "source": [
    "import pandas as pd\n",
    "pd.crosstab(mod.y_predicted_source_positive, mod2.y_predicted_source_positive)"
   ]
  },
  {
   "cell_type": "code",
   "execution_count": 24,
   "id": "1884bcc8",
   "metadata": {},
   "outputs": [
    {
     "data": {
      "text/plain": [
       "np.float64(0.13735901709236048)"
      ]
     },
     "execution_count": 24,
     "metadata": {},
     "output_type": "execute_result"
    }
   ],
   "source": [
    "mod.pi_Forman"
   ]
  }
 ],
 "metadata": {
  "kernelspec": {
   "display_name": "rhks",
   "language": "python",
   "name": "python3"
  },
  "language_info": {
   "codemirror_mode": {
    "name": "ipython",
    "version": 3
   },
   "file_extension": ".py",
   "mimetype": "text/x-python",
   "name": "python",
   "nbconvert_exporter": "python",
   "pygments_lexer": "ipython3",
   "version": "3.13.5"
  }
 },
 "nbformat": 4,
 "nbformat_minor": 5
}
