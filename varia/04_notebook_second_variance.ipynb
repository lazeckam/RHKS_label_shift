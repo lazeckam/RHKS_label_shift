{
 "cells": [
  {
   "cell_type": "code",
   "execution_count": 1,
   "id": "eb5412a7",
   "metadata": {},
   "outputs": [],
   "source": [
    "import numpy as np\n",
    "from tqdm import tqdm\n",
    "import matplotlib.pyplot as plt\n",
    "from kernels_class import *"
   ]
  },
  {
   "cell_type": "code",
   "execution_count": 2,
   "id": "db8f76d5",
   "metadata": {},
   "outputs": [],
   "source": [
    "def generate_sample(scale):\n",
    "    n_source_plus = int(250*scale)\n",
    "    n_source_minus = int(50*scale)\n",
    "    n_source = n_source_plus + n_source_minus\n",
    "    pi_source = n_source_plus/n_source\n",
    "\n",
    "    n_target_plus = int(400*scale)\n",
    "    n_target_minus = int(100*scale)\n",
    "    n_target = n_target_plus + n_target_minus\n",
    "    pi_target = n_target_plus/n_target\n",
    "\n",
    "    p_source_plus = np.random.normal(loc=np.array([0,0]), size=(n_source_plus, 2))\n",
    "    p_source_minus = np.random.normal(loc=np.array([2,2]), size=(n_source_minus, 2))\n",
    "\n",
    "    p_target_plus = np.random.normal(loc=np.array([0,0]), size=(n_target_plus, 2))\n",
    "    p_target_minus = np.random.normal(loc=np.array([2,2]), size=(n_target_minus, 2))\n",
    "\n",
    "    p_target = np.vstack((p_target_plus, p_target_minus))\n",
    "\n",
    "    return p_source_plus, p_source_minus, p_target"
   ]
  },
  {
   "cell_type": "code",
   "execution_count": 3,
   "id": "8ac84f1e",
   "metadata": {},
   "outputs": [],
   "source": [
    "scale0 = 10"
   ]
  },
  {
   "cell_type": "code",
   "execution_count": 4,
   "id": "0711a4d3",
   "metadata": {},
   "outputs": [],
   "source": [
    "p_source_plus, p_source_minus, p_target = generate_sample(scale0)"
   ]
  },
  {
   "cell_type": "code",
   "execution_count": 5,
   "id": "f5d2e09f",
   "metadata": {},
   "outputs": [],
   "source": [
    "est = estimator_RHKS(p_target, p_source_plus, p_source_minus)\n",
    "est.estimate_pi_nrm()\n",
    "est.compute_sigmas2_nrm_1()\n",
    "est.compute_variance_nrm_1()\n",
    "\n",
    "est.compute_taus2_ipr_1()\n",
    "est.compute_variance_ipr_1()\n",
    "\n",
    "est.compute_K2()\n",
    "est.compute_sigmas2_nrm_2()\n",
    "est.compute_variance_nrm_2()"
   ]
  },
  {
   "cell_type": "code",
   "execution_count": 6,
   "id": "a21540a7",
   "metadata": {},
   "outputs": [
    {
     "data": {
      "text/plain": [
       "np.float64(0.03458930163404889)"
      ]
     },
     "execution_count": 6,
     "metadata": {},
     "output_type": "execute_result"
    }
   ],
   "source": [
    "est.var_nrm_1"
   ]
  },
  {
   "cell_type": "code",
   "execution_count": 7,
   "id": "420c9a45",
   "metadata": {},
   "outputs": [
    {
     "data": {
      "text/plain": [
       "(np.float64(0.039925755777362404),\n",
       " np.float64(0.010228108633693543),\n",
       " np.float64(0.0007536327333538771))"
      ]
     },
     "execution_count": 7,
     "metadata": {},
     "output_type": "execute_result"
    }
   ],
   "source": [
    "est.sigma2_target_2, est.sigma2_positive_2, est.sigma2_negative_2"
   ]
  },
  {
   "cell_type": "code",
   "execution_count": 8,
   "id": "e13366fb",
   "metadata": {},
   "outputs": [
    {
     "data": {
      "text/plain": [
       "(np.float64(0.04001099126528997),\n",
       " np.float64(0.01025966687256814),\n",
       " np.float64(0.0007574452719612329))"
      ]
     },
     "execution_count": 8,
     "metadata": {},
     "output_type": "execute_result"
    }
   ],
   "source": [
    "est.sigma2_target_1, est.sigma2_positive_1, est.sigma2_negative_1"
   ]
  },
  {
   "cell_type": "code",
   "execution_count": 9,
   "id": "67905129",
   "metadata": {},
   "outputs": [
    {
     "data": {
      "text/plain": [
       "np.float64(0.03449459284000248)"
      ]
     },
     "execution_count": 9,
     "metadata": {},
     "output_type": "execute_result"
    }
   ],
   "source": [
    "est.var_nrm_2"
   ]
  },
  {
   "cell_type": "code",
   "execution_count": null,
   "id": "122b2efb",
   "metadata": {},
   "outputs": [],
   "source": []
  },
  {
   "cell_type": "markdown",
   "id": "7d2a3758",
   "metadata": {},
   "source": [
    "# second moments same same"
   ]
  },
  {
   "cell_type": "code",
   "execution_count": 10,
   "id": "b1fd86ba",
   "metadata": {},
   "outputs": [
    {
     "data": {
      "text/plain": [
       "np.float64(0.07599469108341916)"
      ]
     },
     "execution_count": 10,
     "metadata": {},
     "output_type": "execute_result"
    }
   ],
   "source": [
    "np.var(np.mean(est.K_target_target, axis=1), ddof=1) + np.mean(np.mean(est.K_target_target, axis=1))**2"
   ]
  },
  {
   "cell_type": "code",
   "execution_count": 11,
   "id": "9d2028f0",
   "metadata": {},
   "outputs": [
    {
     "data": {
      "text/plain": [
       "np.float64(0.07590692024672287)"
      ]
     },
     "execution_count": 11,
     "metadata": {},
     "output_type": "execute_result"
    }
   ],
   "source": [
    "est.E2_K_target_at_target"
   ]
  },
  {
   "cell_type": "code",
   "execution_count": 12,
   "id": "181309f2",
   "metadata": {},
   "outputs": [
    {
     "data": {
      "text/plain": [
       "np.float64(0.12341712466500353)"
      ]
     },
     "execution_count": 12,
     "metadata": {},
     "output_type": "execute_result"
    }
   ],
   "source": [
    "np.var(np.mean(est.K_source_positive_source_positive, axis=1), ddof=1) + np.mean(np.mean(est.K_source_positive_source_positive, axis=1))**2"
   ]
  },
  {
   "cell_type": "code",
   "execution_count": 13,
   "id": "a808f270",
   "metadata": {},
   "outputs": [
    {
     "data": {
      "text/plain": [
       "np.float64(0.12321517225972137)"
      ]
     },
     "execution_count": 13,
     "metadata": {},
     "output_type": "execute_result"
    }
   ],
   "source": [
    "est.E2_K_source_positive_at_source_positive"
   ]
  },
  {
   "cell_type": "code",
   "execution_count": 14,
   "id": "ee5b3c0c",
   "metadata": {},
   "outputs": [
    {
     "data": {
      "text/plain": [
       "np.float64(0.12777456961639896)"
      ]
     },
     "execution_count": 14,
     "metadata": {},
     "output_type": "execute_result"
    }
   ],
   "source": [
    "np.var(np.mean(est.K_source_negative_source_negative, axis=1), ddof=1) + np.mean(np.mean(est.K_source_negative_source_negative, axis=1))**2"
   ]
  },
  {
   "cell_type": "code",
   "execution_count": 15,
   "id": "135aafa5",
   "metadata": {},
   "outputs": [
    {
     "data": {
      "text/plain": [
       "np.float64(0.1267633001148741)"
      ]
     },
     "execution_count": 15,
     "metadata": {},
     "output_type": "execute_result"
    }
   ],
   "source": [
    "est.E2_K_source_negative_at_source_negative"
   ]
  },
  {
   "cell_type": "markdown",
   "id": "08998eb3",
   "metadata": {},
   "source": [
    "# expected values"
   ]
  },
  {
   "cell_type": "code",
   "execution_count": 16,
   "id": "2fb305c9",
   "metadata": {},
   "outputs": [
    {
     "data": {
      "text/plain": [
       "np.float64(0.0893795332896614)"
      ]
     },
     "execution_count": 16,
     "metadata": {},
     "output_type": "execute_result"
    }
   ],
   "source": [
    "np.mean(np.mean(est.K_source_positive_source_negative, axis=1))"
   ]
  },
  {
   "cell_type": "code",
   "execution_count": 17,
   "id": "1b3e1faa",
   "metadata": {},
   "outputs": [
    {
     "data": {
      "text/plain": [
       "np.float64(0.0893795332896614)"
      ]
     },
     "execution_count": 17,
     "metadata": {},
     "output_type": "execute_result"
    }
   ],
   "source": [
    "est.U_source_positive_source_negative"
   ]
  },
  {
   "cell_type": "code",
   "execution_count": null,
   "id": "93f66de2",
   "metadata": {},
   "outputs": [],
   "source": []
  },
  {
   "cell_type": "markdown",
   "id": "11f36139",
   "metadata": {},
   "source": [
    "# different"
   ]
  },
  {
   "cell_type": "code",
   "execution_count": 18,
   "id": "7e5039ed",
   "metadata": {},
   "outputs": [
    {
     "data": {
      "text/plain": [
       "np.float64(0.01683370658067107)"
      ]
     },
     "execution_count": 18,
     "metadata": {},
     "output_type": "execute_result"
    }
   ],
   "source": [
    "np.var(np.mean(est.K_source_positive_source_negative, axis=1), ddof=1) + np.mean(np.mean(est.K_source_positive_source_negative, axis=1))**2"
   ]
  },
  {
   "cell_type": "code",
   "execution_count": 19,
   "id": "8322075b",
   "metadata": {},
   "outputs": [
    {
     "data": {
      "text/plain": [
       "np.float64(0.017713502455223632)"
      ]
     },
     "execution_count": 19,
     "metadata": {},
     "output_type": "execute_result"
    }
   ],
   "source": [
    "np.var(np.mean(est.K_source_positive_source_negative, axis=0), ddof=1) + np.mean(np.mean(est.K_source_positive_source_negative, axis=0))**2"
   ]
  },
  {
   "cell_type": "code",
   "execution_count": 20,
   "id": "89c201a3",
   "metadata": {},
   "outputs": [
    {
     "data": {
      "text/plain": [
       "(np.float64(0.017684594058356044), np.float64(0.016781067555925903))"
      ]
     },
     "execution_count": 20,
     "metadata": {},
     "output_type": "execute_result"
    }
   ],
   "source": [
    "est.E2_K_source_positive_at_negative, est.E2_K_source_negative_at_positive"
   ]
  },
  {
   "cell_type": "code",
   "execution_count": 21,
   "id": "a81c8e6a",
   "metadata": {},
   "outputs": [
    {
     "data": {
      "text/plain": [
       "np.float64(0.03863495942530411)"
      ]
     },
     "execution_count": 21,
     "metadata": {},
     "output_type": "execute_result"
    }
   ],
   "source": [
    "est.E2_K_source_negative_at_target"
   ]
  },
  {
   "cell_type": "code",
   "execution_count": 22,
   "id": "9f7b70ca",
   "metadata": {},
   "outputs": [
    {
     "data": {
      "text/plain": [
       "np.float64(0.038708134942288516)"
      ]
     },
     "execution_count": 22,
     "metadata": {},
     "output_type": "execute_result"
    }
   ],
   "source": [
    "np.var(np.mean(est.K_target_source_negative, axis=1), ddof=1) + np.mean(np.mean(est.K_target_source_negative, axis=1))**2"
   ]
  },
  {
   "cell_type": "code",
   "execution_count": 23,
   "id": "1b1589b9",
   "metadata": {},
   "outputs": [
    {
     "data": {
      "text/plain": [
       "np.float64(0.02541222277857486)"
      ]
     },
     "execution_count": 23,
     "metadata": {},
     "output_type": "execute_result"
    }
   ],
   "source": [
    "np.var(np.mean(est.K_target_source_negative, axis=0), ddof=1) + np.mean(np.mean(est.K_target_source_negative, axis=1))**2"
   ]
  }
 ],
 "metadata": {
  "kernelspec": {
   "display_name": "rhks",
   "language": "python",
   "name": "python3"
  },
  "language_info": {
   "codemirror_mode": {
    "name": "ipython",
    "version": 3
   },
   "file_extension": ".py",
   "mimetype": "text/x-python",
   "name": "python",
   "nbconvert_exporter": "python",
   "pygments_lexer": "ipython3",
   "version": "3.13.5"
  }
 },
 "nbformat": 4,
 "nbformat_minor": 5
}
