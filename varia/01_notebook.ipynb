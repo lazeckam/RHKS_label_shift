{
 "cells": [
  {
   "cell_type": "code",
   "execution_count": 5,
   "id": "a1eed07b",
   "metadata": {},
   "outputs": [],
   "source": [
    "import numpy as np\n",
    "from tqdm import tqdm\n",
    "import matplotlib.pyplot as plt\n",
    "from kernels import *"
   ]
  },
  {
   "cell_type": "code",
   "execution_count": 6,
   "id": "b38e440f",
   "metadata": {},
   "outputs": [],
   "source": [
    "scale = 10\n",
    "N = 100"
   ]
  },
  {
   "cell_type": "code",
   "execution_count": 7,
   "id": "8bbc3fe5",
   "metadata": {},
   "outputs": [],
   "source": [
    "n_source_plus = 250*scale\n",
    "n_source_minus = 250*scale\n",
    "n_source = n_source_plus + n_source_minus\n",
    "pi_source = n_source_plus/n_source\n",
    "\n",
    "n_target_plus = 400*scale\n",
    "n_target_minus = 100*scale\n",
    "n_target = n_target_plus + n_target_minus\n",
    "pi_target = n_target_plus/n_target"
   ]
  },
  {
   "cell_type": "code",
   "execution_count": 4,
   "id": "30462cde",
   "metadata": {},
   "outputs": [
    {
     "name": "stderr",
     "output_type": "stream",
     "text": [
      " 70%|███████   | 70/100 [04:02<01:43,  3.46s/it]\n"
     ]
    },
    {
     "ename": "KeyboardInterrupt",
     "evalue": "",
     "output_type": "error",
     "traceback": [
      "\u001b[31m---------------------------------------------------------------------------\u001b[39m",
      "\u001b[31mKeyboardInterrupt\u001b[39m                         Traceback (most recent call last)",
      "\u001b[36mCell\u001b[39m\u001b[36m \u001b[39m\u001b[32mIn[4]\u001b[39m\u001b[32m, line 15\u001b[39m\n\u001b[32m     12\u001b[39m p_target = np.vstack((p_target_plus, p_target_minus))\n\u001b[32m     14\u001b[39m res1[i] = pi_ratio_u(p_target, p_source_plus, p_source_minus)\n\u001b[32m---> \u001b[39m\u001b[32m15\u001b[39m res2[i] = \u001b[43mpi_ratio_v\u001b[49m\u001b[43m(\u001b[49m\u001b[43mp_target\u001b[49m\u001b[43m,\u001b[49m\u001b[43m \u001b[49m\u001b[43mp_source_plus\u001b[49m\u001b[43m,\u001b[49m\u001b[43m \u001b[49m\u001b[43mp_source_minus\u001b[49m\u001b[43m)\u001b[49m\n",
      "\u001b[36mFile \u001b[39m\u001b[32m/mnt/d/projekty/RHKS_label_shift/kernels.py:99\u001b[39m, in \u001b[36mpi_ratio_v\u001b[39m\u001b[34m(p_target, p_source_positive, p_source_negative)\u001b[39m\n\u001b[32m     98\u001b[39m \u001b[38;5;28;01mdef\u001b[39;00m\u001b[38;5;250m \u001b[39m\u001b[34mpi_ratio_v\u001b[39m(p_target, p_source_positive, p_source_negative):\n\u001b[32m---> \u001b[39m\u001b[32m99\u001b[39m     \u001b[38;5;28;01mreturn\u001b[39;00m np.sqrt(delta_P_Q_V(p_target, p_source_negative)/\u001b[43mdelta_P_Q_V\u001b[49m\u001b[43m(\u001b[49m\u001b[43mp_source_positive\u001b[49m\u001b[43m,\u001b[49m\u001b[43m \u001b[49m\u001b[43mp_source_negative\u001b[49m\u001b[43m)\u001b[49m)\n",
      "\u001b[36mFile \u001b[39m\u001b[32m/mnt/d/projekty/RHKS_label_shift/kernels.py:93\u001b[39m, in \u001b[36mdelta_P_Q_V\u001b[39m\u001b[34m(x, y)\u001b[39m\n\u001b[32m     92\u001b[39m \u001b[38;5;28;01mdef\u001b[39;00m\u001b[38;5;250m \u001b[39m\u001b[34mdelta_P_Q_V\u001b[39m(x, y):\n\u001b[32m---> \u001b[39m\u001b[32m93\u001b[39m     \u001b[38;5;28;01mreturn\u001b[39;00m \u001b[43mV_kernel\u001b[49m\u001b[43m(\u001b[49m\u001b[43mx\u001b[49m\u001b[43m,\u001b[49m\u001b[43m \u001b[49m\u001b[43mx\u001b[49m\u001b[43m)\u001b[49m - \u001b[32m2\u001b[39m*U_kernel(x, y) + V_kernel(y, y)\n",
      "\u001b[36mFile \u001b[39m\u001b[32m/mnt/d/projekty/RHKS_label_shift/kernels.py:85\u001b[39m, in \u001b[36mV_kernel\u001b[39m\u001b[34m(x, y, kernel, params_kernel)\u001b[39m\n\u001b[32m     66\u001b[39m \u001b[38;5;28;01mdef\u001b[39;00m\u001b[38;5;250m \u001b[39m\u001b[34mV_kernel\u001b[39m(x, y, kernel=\u001b[33m'\u001b[39m\u001b[33mRBF\u001b[39m\u001b[33m'\u001b[39m, params_kernel = {\u001b[33m'\u001b[39m\u001b[33msigma\u001b[39m\u001b[33m'\u001b[39m: \u001b[32m1.0\u001b[39m}):\n\u001b[32m     67\u001b[39m \u001b[38;5;250m    \u001b[39m\u001b[33;03m\"\"\"Computes U estimator on input arrays.\u001b[39;00m\n\u001b[32m     68\u001b[39m \n\u001b[32m     69\u001b[39m \u001b[33;03m    Parameters\u001b[39;00m\n\u001b[32m   (...)\u001b[39m\u001b[32m     83\u001b[39m \u001b[33;03m        U estimator.\u001b[39;00m\n\u001b[32m     84\u001b[39m \u001b[33;03m    \"\"\"\u001b[39;00m \n\u001b[32m---> \u001b[39m\u001b[32m85\u001b[39m     U_estimator = (np.sum(\u001b[43mRBF_kernel\u001b[49m\u001b[43m(\u001b[49m\u001b[43mx\u001b[49m\u001b[43m,\u001b[49m\u001b[43my\u001b[49m\u001b[43m)\u001b[49m) - np.sum(np.diag(RBF_kernel(x,y))))/(x.shape[\u001b[32m0\u001b[39m]**\u001b[32m2\u001b[39m - x.shape[\u001b[32m0\u001b[39m])\n\u001b[32m     87\u001b[39m     \u001b[38;5;28;01mreturn\u001b[39;00m U_estimator\n",
      "\u001b[36mFile \u001b[39m\u001b[32m/mnt/d/projekty/RHKS_label_shift/kernels.py:36\u001b[39m, in \u001b[36mRBF_kernel\u001b[39m\u001b[34m(x, y, sigma, gamma)\u001b[39m\n\u001b[32m     33\u001b[39m RBF_result = \u001b[38;5;28;01mNone\u001b[39;00m\n\u001b[32m     35\u001b[39m \u001b[38;5;28;01mif\u001b[39;00m sigma \u001b[38;5;129;01mis\u001b[39;00m \u001b[38;5;129;01mnot\u001b[39;00m \u001b[38;5;28;01mNone\u001b[39;00m:\n\u001b[32m---> \u001b[39m\u001b[32m36\u001b[39m     RBF_result = \u001b[43mnp\u001b[49m\u001b[43m.\u001b[49m\u001b[43mexp\u001b[49m\u001b[43m(\u001b[49m\u001b[43m-\u001b[49m\u001b[32;43m1\u001b[39;49m\u001b[43m/\u001b[49m\u001b[43m(\u001b[49m\u001b[43msigma\u001b[49m\u001b[43m*\u001b[49m\u001b[43m*\u001b[49m\u001b[32;43m2\u001b[39;49m\u001b[43m)\u001b[49m\u001b[43m \u001b[49m\u001b[43m*\u001b[49m\u001b[43m \u001b[49m\u001b[43mcdist\u001b[49m\u001b[43m(\u001b[49m\u001b[43mx\u001b[49m\u001b[43m,\u001b[49m\u001b[43m \u001b[49m\u001b[43my\u001b[49m\u001b[43m,\u001b[49m\u001b[43m \u001b[49m\u001b[43mmetric\u001b[49m\u001b[43m=\u001b[49m\u001b[33;43m\"\u001b[39;49m\u001b[33;43msqeuclidean\u001b[39;49m\u001b[33;43m\"\u001b[39;49m\u001b[43m)\u001b[49m\u001b[43m)\u001b[49m\n\u001b[32m     38\u001b[39m \u001b[38;5;28;01mif\u001b[39;00m sigma \u001b[38;5;129;01mis\u001b[39;00m \u001b[38;5;28;01mNone\u001b[39;00m \u001b[38;5;129;01mand\u001b[39;00m gamma \u001b[38;5;129;01mis\u001b[39;00m \u001b[38;5;129;01mnot\u001b[39;00m \u001b[38;5;28;01mNone\u001b[39;00m:\n\u001b[32m     39\u001b[39m     RBF_result = np.exp(-gamma * cdist(x, y, metric=\u001b[33m\"\u001b[39m\u001b[33msqeuclidean\u001b[39m\u001b[33m\"\u001b[39m))\n",
      "\u001b[31mKeyboardInterrupt\u001b[39m: "
     ]
    }
   ],
   "source": [
    "res1 = np.zeros(N)\n",
    "res2 = np.zeros(N)\n",
    "\n",
    "for i in tqdm(range(N)):\n",
    "\n",
    "    p_source_plus = np.random.normal(loc=np.array([0,0]), size=(n_source_plus, 2))\n",
    "    p_source_minus = np.random.normal(loc=np.array([2,2]), size=(n_source_minus, 2))\n",
    "\n",
    "    p_target_plus = np.random.normal(loc=np.array([0,0]), size=(n_target_plus, 2))\n",
    "    p_target_minus = np.random.normal(loc=np.array([2,2]), size=(n_target_minus, 2))\n",
    "\n",
    "    p_target = np.vstack((p_target_plus, p_target_minus))\n",
    "\n",
    "    res1[i] = pi_ratio_u(p_target, p_source_plus, p_source_minus)\n",
    "    res2[i] = pi_ratio_v(p_target, p_source_plus, p_source_minus)"
   ]
  },
  {
   "cell_type": "code",
   "execution_count": null,
   "id": "9e014d99",
   "metadata": {},
   "outputs": [
    {
     "ename": "NameError",
     "evalue": "name 'res1' is not defined",
     "output_type": "error",
     "traceback": [
      "\u001b[31m---------------------------------------------------------------------------\u001b[39m",
      "\u001b[31mNameError\u001b[39m                                 Traceback (most recent call last)",
      "\u001b[36mCell\u001b[39m\u001b[36m \u001b[39m\u001b[32mIn[4]\u001b[39m\u001b[32m, line 1\u001b[39m\n\u001b[32m----> \u001b[39m\u001b[32m1\u001b[39m plt.hist(\u001b[43mres1\u001b[49m)\n\u001b[32m      2\u001b[39m plt.hist(res2)\n\u001b[32m      3\u001b[39m plt.show()\n",
      "\u001b[31mNameError\u001b[39m: name 'res1' is not defined"
     ]
    }
   ],
   "source": [
    "plt.hist(res1)\n",
    "plt.hist(res2)\n",
    "plt.show()"
   ]
  },
  {
   "cell_type": "code",
   "execution_count": null,
   "id": "ab5f16e7",
   "metadata": {},
   "outputs": [],
   "source": [
    "# n_source_plus = 250\n",
    "# n_source_minus = 250\n",
    "# n_source = n_source_plus + n_source_minus\n",
    "# pi_source = n_source_plus/n_source\n",
    "\n",
    "# n_target_plus = 400\n",
    "# n_target_minus = 100\n",
    "# n_target = n_target_plus + n_target_minus\n",
    "# pi_target = n_target_plus/n_target"
   ]
  },
  {
   "cell_type": "code",
   "execution_count": null,
   "id": "6bc576cf",
   "metadata": {},
   "outputs": [],
   "source": [
    "# res1 = np.zeros(N)\n",
    "# res2 = np.zeros(N)\n",
    "\n",
    "# for i in range(N):\n",
    "\n",
    "#     p_source_plus = np.random.normal(loc=np.array([0,0]), size=(n_source_plus, 2))\n",
    "#     p_source_minus = np.random.normal(loc=np.array([2,2]), size=(n_source_minus, 2))\n",
    "\n",
    "#     p_target_plus = np.random.normal(loc=np.array([0,0]), size=(n_target_plus, 2))\n",
    "#     p_target_minus = np.random.normal(loc=np.array([2,2]), size=(n_target_minus, 2))\n",
    "\n",
    "#     p_target = np.vstack((p_target_plus, p_target_minus))\n",
    "\n",
    "#     res1[i] = pi_ratio_u(p_target, p_source_plus, p_source_minus)\n",
    "#     res2[i] = pi_ratio_v(p_target, p_source_plus, p_source_minus)"
   ]
  },
  {
   "cell_type": "code",
   "execution_count": null,
   "id": "5a7760dc",
   "metadata": {},
   "outputs": [],
   "source": [
    "# plt.hist(res1)\n",
    "# plt.hist(res2)\n",
    "# plt.show()"
   ]
  },
  {
   "cell_type": "code",
   "execution_count": 8,
   "id": "0cce7d30",
   "metadata": {},
   "outputs": [],
   "source": [
    "lambda_target = (1/n_target)/((1/n_target) + (1/n_source_plus) + (1/n_source_minus))\n",
    "lambda_plus = (1/n_source_plus)/((1/n_target) + (1/n_source_plus) + (1/n_source_minus))\n",
    "lambda_minus = (1/n_source_minus)/((1/n_target) + (1/n_source_plus) + (1/n_source_minus))"
   ]
  },
  {
   "cell_type": "code",
   "execution_count": 9,
   "id": "2149fecd",
   "metadata": {},
   "outputs": [
    {
     "data": {
      "text/plain": [
       "(0.2, 0.4, 0.4, 0.001)"
      ]
     },
     "execution_count": 9,
     "metadata": {},
     "output_type": "execute_result"
    }
   ],
   "source": [
    "lambda_target, lambda_plus, lambda_minus, ((1/n_target) + (1/n_source_plus) + (1/n_source_minus))"
   ]
  },
  {
   "cell_type": "code",
   "execution_count": 10,
   "id": "e0c4e9fa",
   "metadata": {},
   "outputs": [],
   "source": [
    "scale = 1\n",
    "n_source_plus = 250*scale\n",
    "n_source_minus = 250*scale\n",
    "n_source = n_source_plus + n_source_minus\n",
    "pi_source = n_source_plus/n_source\n",
    "\n",
    "n_target_plus = 400*scale\n",
    "n_target_minus = 100*scale\n",
    "n_target = n_target_plus + n_target_minus\n",
    "pi_target = n_target_plus/n_target\n",
    "\n",
    "p_source_plus = np.random.normal(loc=np.array([0,0]), size=(n_source_plus, 2))\n",
    "p_source_minus = np.random.normal(loc=np.array([2,2]), size=(n_source_minus, 2))\n",
    "\n",
    "p_target_plus = np.random.normal(loc=np.array([0,0]), size=(n_target_plus, 2))\n",
    "p_target_minus = np.random.normal(loc=np.array([2,2]), size=(n_target_minus, 2))\n",
    "\n",
    "p_target = np.vstack((p_target_plus, p_target_minus))\n"
   ]
  },
  {
   "cell_type": "code",
   "execution_count": 11,
   "id": "a0a8a989",
   "metadata": {},
   "outputs": [],
   "source": [
    "est_var = lambda_target*sigma_prime(p_target, p_source_plus, p_source_minus) \\\n",
    "      + lambda_plus*sigma_plus(p_target, p_source_plus, p_source_minus, n_target_plus/n_target) \\\n",
    "        + lambda_minus*sigma_minus(p_target, p_source_plus, p_source_minus, n_target_plus/n_target)"
   ]
  },
  {
   "cell_type": "code",
   "execution_count": 12,
   "id": "3b36cfa7",
   "metadata": {},
   "outputs": [],
   "source": [
    "est_var = est_var/((n_target_plus/n_target)**2*delta_P_Q_V(p_source_plus, p_source_minus)**2)"
   ]
  },
  {
   "cell_type": "code",
   "execution_count": 13,
   "id": "deb3e804",
   "metadata": {},
   "outputs": [],
   "source": [
    "# np.var(res1)"
   ]
  },
  {
   "cell_type": "code",
   "execution_count": 14,
   "id": "00566465",
   "metadata": {},
   "outputs": [
    {
     "data": {
      "text/plain": [
       "np.float64(0.651832832818086)"
      ]
     },
     "execution_count": 14,
     "metadata": {},
     "output_type": "execute_result"
    }
   ],
   "source": [
    "np.sqrt(est_var)"
   ]
  },
  {
   "cell_type": "code",
   "execution_count": 15,
   "id": "7b96924c",
   "metadata": {},
   "outputs": [
    {
     "data": {
      "text/plain": [
       "np.float64(0.42488604193965085)"
      ]
     },
     "execution_count": 15,
     "metadata": {},
     "output_type": "execute_result"
    }
   ],
   "source": [
    "est_var"
   ]
  },
  {
   "cell_type": "code",
   "execution_count": null,
   "id": "6e13271c",
   "metadata": {},
   "outputs": [],
   "source": [
    "x_seq = np.linspace(-2, 2, 100)"
   ]
  },
  {
   "cell_type": "code",
   "execution_count": null,
   "id": "9f796289",
   "metadata": {},
   "outputs": [],
   "source": [
    "from scipy.stats import norm"
   ]
  },
  {
   "cell_type": "code",
   "execution_count": null,
   "id": "9554925a",
   "metadata": {},
   "outputs": [],
   "source": [
    "y_seq = norm.pdf(x_seq, loc=0,  scale=np.sqrt((est_var)))"
   ]
  },
  {
   "cell_type": "code",
   "execution_count": null,
   "id": "82a61c30",
   "metadata": {},
   "outputs": [
    {
     "data": {
      "image/png": "[encoded data removed]",
      "text/plain": [
       "<Figure size 640x480 with 1 Axes>"
      ]
     },
     "metadata": {},
     "output_type": "display_data"
    }
   ],
   "source": [
    "denominator = (((1/n_target) + (1/n_source_plus) + (1/n_source_minus)))\n",
    "\n",
    "plt.hist((res1 - (n_target_plus/n_target))/denominator, density=True)\n",
    "plt.plot(x_seq, y_seq)\n",
    "plt.show()"
   ]
  },
  {
   "cell_type": "code",
   "execution_count": null,
   "id": "a06532dd",
   "metadata": {},
   "outputs": [],
   "source": []
  }
 ],
 "metadata": {
  "kernelspec": {
   "display_name": "rhks",
   "language": "python",
   "name": "python3"
  },
  "language_info": {
   "codemirror_mode": {
    "name": "ipython",
    "version": 3
   },
   "file_extension": ".py",
   "mimetype": "text/x-python",
   "name": "python",
   "nbconvert_exporter": "python",
   "pygments_lexer": "ipython3",
   "version": "3.13.5"
  }
 },
 "nbformat": 4,
 "nbformat_minor": 5
}
