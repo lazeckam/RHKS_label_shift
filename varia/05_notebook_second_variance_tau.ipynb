{
 "cells": [
  {
   "cell_type": "code",
   "execution_count": 1,
   "id": "eb5412a7",
   "metadata": {},
   "outputs": [],
   "source": [
    "import numpy as np\n",
    "from tqdm import tqdm\n",
    "import matplotlib.pyplot as plt\n",
    "from kernels_class import *\n",
    "from rbf_kernel import *"
   ]
  },
  {
   "cell_type": "code",
   "execution_count": 2,
   "id": "5f1d02ae",
   "metadata": {},
   "outputs": [],
   "source": [
    "def generate_sample_fig3(scale):\n",
    "    n_source_plus = int(500*scale)\n",
    "    n_source_minus = int(400*scale)\n",
    "    n_source = n_source_plus + n_source_minus\n",
    "    pi_source = n_source_plus/n_source\n",
    "\n",
    "    n_target_plus = int(300*0.4*scale)\n",
    "    n_target_minus = int(300*0.6*scale)\n",
    "    n_target = n_target_plus + n_target_minus\n",
    "    pi_target = n_target_plus/n_target\n",
    "\n",
    "    p_source_plus = np.random.multivariate_normal(mean=np.array([0,0,0]), cov=np.eye(3), size=(n_source_plus))\n",
    "    p_source_minus = np.random.multivariate_normal(mean=np.array([2,1,-1]), cov=np.array([[1,0.5,0],[0.5, 1, 0.5],[0,0.5,1]]), size=(n_source_minus))\n",
    "\n",
    "    p_target_plus = np.random.multivariate_normal(mean=np.array([0,0,0]), cov=np.eye(3), size=(n_target_plus))\n",
    "    p_target_minus = np.random.multivariate_normal(mean=np.array([2,1,-1]), cov=np.array([[1,0.5,0],[0.5, 1, 0.5],[0,0.5,1]]), size=(n_target_minus))\n",
    "\n",
    "    p_target = np.vstack((p_target_plus, p_target_minus))\n",
    "\n",
    "    return p_source_plus, p_source_minus, p_target"
   ]
  },
  {
   "cell_type": "code",
   "execution_count": 3,
   "id": "22215a17",
   "metadata": {},
   "outputs": [],
   "source": [
    "p_source_plus, p_source_minus, p_target = generate_sample_fig3(1)"
   ]
  },
  {
   "cell_type": "code",
   "execution_count": 4,
   "id": "d2a843ac",
   "metadata": {},
   "outputs": [],
   "source": [
    "est = estimator_RHKS(p_target, p_source_plus, p_source_minus, kernel_params={'gamma': 1/(2*(0.8)**2)})\n",
    "\n",
    "est.estimate_pi_ipr()\n",
    "est.estimate_pi_nrm()\n",
    "\n",
    "est.compute_K2()\n",
    "est.compute_tau_plug_in()\n",
    "est.compute_tau_explicit()\n",
    "\n",
    "est.estimate_variance_explicit()\n",
    "est.estimate_variance_plug_in()"
   ]
  },
  {
   "cell_type": "code",
   "execution_count": 5,
   "id": "fc558e2c",
   "metadata": {},
   "outputs": [],
   "source": [
    "n_source_plus = 500\n",
    "n_source_minus = 400\n",
    "\n",
    "n_target = 300\n",
    "\n",
    "pi_target = 0.4\n",
    "\n",
    "r =(1/n_source_plus + 1/n_source_minus + 1/n_target)"
   ]
  },
  {
   "cell_type": "code",
   "execution_count": 6,
   "id": "925925cf",
   "metadata": {},
   "outputs": [
    {
     "name": "stdout",
     "output_type": "stream",
     "text": [
      "delta2:  0.031208256653945752\n",
      "Var_Phi_plus_minus_at_plus:  0.005353794764966896\n",
      "Var_Phi_plus_minus_at_minus:  0.0067629897373771754\n"
     ]
    }
   ],
   "source": [
    "var_est, tar_est, pos_est, neg_est = variance_for_rbf(np.array([0,0,0]), np.eye(3), np.array([2,1,-1]), \n",
    "                                                      np.array([[1,0.5,0],[0.5, 1, 0.5],[0,0.5,1]]), pi_target, \n",
    "                 1/(r*n_target),1/(r*n_source_plus),1/(r*n_source_minus), gamma=1/(2*(0.8)**2))"
   ]
  },
  {
   "cell_type": "code",
   "execution_count": 7,
   "id": "83f34c35",
   "metadata": {},
   "outputs": [
    {
     "data": {
      "text/plain": [
       "np.float64(0.02947738768056792)"
      ]
     },
     "execution_count": 7,
     "metadata": {},
     "output_type": "execute_result"
    }
   ],
   "source": [
    "est.D_source_positive_source_negative**2"
   ]
  },
  {
   "cell_type": "code",
   "execution_count": 8,
   "id": "cc9a5606",
   "metadata": {},
   "outputs": [
    {
     "data": {
      "text/plain": [
       "np.float64(0.004431826665765751)"
      ]
     },
     "execution_count": 8,
     "metadata": {},
     "output_type": "execute_result"
    }
   ],
   "source": [
    "est.tau_positive_explicit/pi_target**2"
   ]
  },
  {
   "cell_type": "code",
   "execution_count": 9,
   "id": "4dde99ae",
   "metadata": {},
   "outputs": [
    {
     "data": {
      "text/plain": [
       "(np.float64(0.0007090922665225203),\n",
       " np.float64(0.0008566071623947035),\n",
       " 0.0024346763054557833)"
      ]
     },
     "execution_count": 9,
     "metadata": {},
     "output_type": "execute_result"
    }
   ],
   "source": [
    "est.tau_positive_explicit, pos_est, 0.0067629897373771754*(1-pi_target)**2"
   ]
  },
  {
   "cell_type": "code",
   "execution_count": 10,
   "id": "d578694b",
   "metadata": {},
   "outputs": [
    {
     "data": {
      "text/plain": [
       "np.float64(0.0068298381853739215)"
      ]
     },
     "execution_count": 10,
     "metadata": {},
     "output_type": "execute_result"
    }
   ],
   "source": [
    "est.tau_negative_explicit/(1-pi_target)**2"
   ]
  },
  {
   "cell_type": "code",
   "execution_count": 11,
   "id": "d0c81627",
   "metadata": {},
   "outputs": [
    {
     "data": {
      "text/plain": [
       "(np.float64(0.0024587417467346116),\n",
       " np.float64(0.0024346763054557833),\n",
       " 0.0024346763054557833)"
      ]
     },
     "execution_count": 11,
     "metadata": {},
     "output_type": "execute_result"
    }
   ],
   "source": [
    "est.tau_negative_explicit, neg_est, 0.0067629897373771754*(1-pi_target)**2"
   ]
  },
  {
   "cell_type": "code",
   "execution_count": 12,
   "id": "4644a87a",
   "metadata": {},
   "outputs": [
    {
     "data": {
      "text/plain": [
       "(np.float64(0.042972806975862275), np.float64(0.04137723070664434))"
      ]
     },
     "execution_count": 12,
     "metadata": {},
     "output_type": "execute_result"
    }
   ],
   "source": [
    "np.sqrt(est.var_plug_in)*np.sqrt(r), np.sqrt(var_est)*np.sqrt(r)"
   ]
  },
  {
   "cell_type": "code",
   "execution_count": 13,
   "id": "a63cd45e",
   "metadata": {},
   "outputs": [
    {
     "data": {
      "text/plain": [
       "(np.float64(0.2357441029001766),\n",
       " np.float64(0.23099627313637422),\n",
       " np.float64(0.21856279416394098))"
      ]
     },
     "execution_count": 13,
     "metadata": {},
     "output_type": "execute_result"
    }
   ],
   "source": [
    "est.var_plug_in, est.var_explicit, var_est"
   ]
  },
  {
   "cell_type": "code",
   "execution_count": 14,
   "id": "e244b0e7",
   "metadata": {},
   "outputs": [
    {
     "data": {
      "text/plain": [
       "(np.float64(0.013732030065652592),\n",
       " np.float64(0.013892996789731774),\n",
       " np.float64(0.013689293345360044))"
      ]
     },
     "execution_count": 14,
     "metadata": {},
     "output_type": "execute_result"
    }
   ],
   "source": [
    "est.tau_target_explicit, est.tau_target_plug_in,tar_est"
   ]
  },
  {
   "cell_type": "code",
   "execution_count": 15,
   "id": "36c88b35",
   "metadata": {},
   "outputs": [
    {
     "data": {
      "text/plain": [
       "(np.float64(0.0007090922665225203),\n",
       " np.float64(0.000815241106062087),\n",
       " np.float64(0.0008566071623947035))"
      ]
     },
     "execution_count": 15,
     "metadata": {},
     "output_type": "execute_result"
    }
   ],
   "source": [
    "est.tau_positive_explicit, est.tau_positive_plug_in, pos_est"
   ]
  },
  {
   "cell_type": "code",
   "execution_count": 16,
   "id": "40d7c4e2",
   "metadata": {},
   "outputs": [
    {
     "data": {
      "text/plain": [
       "(np.float64(0.0024587417467346116),\n",
       " np.float64(0.002597721714576066),\n",
       " np.float64(0.0024346763054557833))"
      ]
     },
     "execution_count": 16,
     "metadata": {},
     "output_type": "execute_result"
    }
   ],
   "source": [
    "est.tau_negative_explicit, est.tau_negative_plug_in, neg_est"
   ]
  },
  {
   "cell_type": "code",
   "execution_count": null,
   "id": "e354af76",
   "metadata": {},
   "outputs": [],
   "source": []
  },
  {
   "cell_type": "code",
   "execution_count": 17,
   "id": "db8f76d5",
   "metadata": {},
   "outputs": [],
   "source": [
    "def generate_sample(scale):\n",
    "    n_source_plus = int(250*scale)\n",
    "    n_source_minus = int(50*scale)\n",
    "    n_source = n_source_plus + n_source_minus\n",
    "    pi_source = n_source_plus/n_source\n",
    "\n",
    "    n_target_plus = int(400*scale)\n",
    "    n_target_minus = int(100*scale)\n",
    "    n_target = n_target_plus + n_target_minus\n",
    "    pi_target = n_target_plus/n_target\n",
    "\n",
    "    p_source_plus = np.random.normal(loc=np.array([0,0]), size=(n_source_plus, 2))\n",
    "    p_source_minus = np.random.normal(loc=np.array([2,2]), size=(n_source_minus, 2))\n",
    "\n",
    "    p_target_plus = np.random.normal(loc=np.array([0,0]), size=(n_target_plus, 2))\n",
    "    p_target_minus = np.random.normal(loc=np.array([2,2]), size=(n_target_minus, 2))\n",
    "\n",
    "    p_target = np.vstack((p_target_plus, p_target_minus))\n",
    "\n",
    "    return p_source_plus, p_source_minus, p_target"
   ]
  },
  {
   "cell_type": "code",
   "execution_count": 18,
   "id": "44a6cfb3",
   "metadata": {},
   "outputs": [
    {
     "data": {
      "text/plain": [
       "(2,)"
      ]
     },
     "execution_count": 18,
     "metadata": {},
     "output_type": "execute_result"
    }
   ],
   "source": [
    "np.array([0,0]).shape"
   ]
  },
  {
   "cell_type": "code",
   "execution_count": 19,
   "id": "8ac84f1e",
   "metadata": {},
   "outputs": [],
   "source": [
    "scale0 = 20"
   ]
  },
  {
   "cell_type": "code",
   "execution_count": 20,
   "id": "0711a4d3",
   "metadata": {},
   "outputs": [],
   "source": [
    "p_source_plus, p_source_minus, p_target = generate_sample(scale0)"
   ]
  },
  {
   "cell_type": "code",
   "execution_count": 21,
   "id": "f5d2e09f",
   "metadata": {},
   "outputs": [],
   "source": [
    "est = estimator_RHKS(p_target, p_source_plus, p_source_minus)\n",
    "\n",
    "est.estimate_pi_ipr()\n",
    "est.estimate_pi_nrm()\n",
    "\n",
    "est.compute_K2()\n",
    "est.compute_tau_plug_in()\n",
    "est.compute_tau_explicit()"
   ]
  },
  {
   "cell_type": "code",
   "execution_count": 22,
   "id": "a21540a7",
   "metadata": {},
   "outputs": [
    {
     "data": {
      "text/plain": [
       "(np.float64(0.00103916473500721), np.float64(0.0010495123583096901))"
      ]
     },
     "execution_count": 22,
     "metadata": {},
     "output_type": "execute_result"
    }
   ],
   "source": [
    "est.tau_negative_explicit, est.tau_negative_plug_in"
   ]
  },
  {
   "cell_type": "code",
   "execution_count": 23,
   "id": "420c9a45",
   "metadata": {},
   "outputs": [
    {
     "data": {
      "text/plain": [
       "(np.float64(0.015798599209478775), np.float64(0.015832284695850206))"
      ]
     },
     "execution_count": 23,
     "metadata": {},
     "output_type": "execute_result"
    }
   ],
   "source": [
    "est.tau_positive_explicit, est.tau_positive_plug_in"
   ]
  },
  {
   "cell_type": "code",
   "execution_count": 24,
   "id": "e13366fb",
   "metadata": {},
   "outputs": [
    {
     "data": {
      "text/plain": [
       "(np.float64(0.06560237722308304), np.float64(0.06565537008663677))"
      ]
     },
     "execution_count": 24,
     "metadata": {},
     "output_type": "execute_result"
    }
   ],
   "source": [
    "est.tau_target_explicit, est.tau_target_plug_in"
   ]
  },
  {
   "cell_type": "code",
   "execution_count": 25,
   "id": "122b2efb",
   "metadata": {},
   "outputs": [
    {
     "data": {
      "text/plain": [
       "array([[224268.6720942 , 346532.75780513],\n",
       "       [346532.75780513, 594007.5786747 ]])"
      ]
     },
     "execution_count": 25,
     "metadata": {},
     "output_type": "execute_result"
    }
   ],
   "source": [
    "np.cov(np.sum(est.K_source_positive_source_negative.T, axis=1), np.sum(est.K_target_source_negative.T, axis=1))"
   ]
  },
  {
   "cell_type": "markdown",
   "id": "7d2a3758",
   "metadata": {},
   "source": [
    "# second moments same same"
   ]
  },
  {
   "cell_type": "code",
   "execution_count": 26,
   "id": "b1fd86ba",
   "metadata": {},
   "outputs": [
    {
     "data": {
      "text/plain": [
       "np.float64(0.07764123899577263)"
      ]
     },
     "execution_count": 26,
     "metadata": {},
     "output_type": "execute_result"
    }
   ],
   "source": [
    "np.var(np.mean(est.K_target_target, axis=1), ddof=1) + np.mean(np.mean(est.K_target_target, axis=1))**2"
   ]
  },
  {
   "cell_type": "code",
   "execution_count": 27,
   "id": "9d2028f0",
   "metadata": {},
   "outputs": [
    {
     "data": {
      "text/plain": [
       "np.float64(0.07759701741923215)"
      ]
     },
     "execution_count": 27,
     "metadata": {},
     "output_type": "execute_result"
    }
   ],
   "source": [
    "est.E2_K_target_at_target"
   ]
  },
  {
   "cell_type": "code",
   "execution_count": 28,
   "id": "181309f2",
   "metadata": {},
   "outputs": [
    {
     "data": {
      "text/plain": [
       "np.float64(0.12261625284000237)"
      ]
     },
     "execution_count": 28,
     "metadata": {},
     "output_type": "execute_result"
    }
   ],
   "source": [
    "np.var(np.mean(est.K_source_positive_source_positive, axis=1), ddof=1) + np.mean(np.mean(est.K_source_positive_source_positive, axis=1))**2"
   ]
  },
  {
   "cell_type": "code",
   "execution_count": 29,
   "id": "a808f270",
   "metadata": {},
   "outputs": [
    {
     "data": {
      "text/plain": [
       "np.float64(0.12251555306366305)"
      ]
     },
     "execution_count": 29,
     "metadata": {},
     "output_type": "execute_result"
    }
   ],
   "source": [
    "est.E2_K_source_positive_at_source_positive"
   ]
  },
  {
   "cell_type": "code",
   "execution_count": 30,
   "id": "ee5b3c0c",
   "metadata": {},
   "outputs": [
    {
     "data": {
      "text/plain": [
       "np.float64(0.13222165204260258)"
      ]
     },
     "execution_count": 30,
     "metadata": {},
     "output_type": "execute_result"
    }
   ],
   "source": [
    "np.var(np.mean(est.K_source_negative_source_negative, axis=1), ddof=1) + np.mean(np.mean(est.K_source_negative_source_negative, axis=1))**2"
   ]
  },
  {
   "cell_type": "code",
   "execution_count": 31,
   "id": "135aafa5",
   "metadata": {},
   "outputs": [
    {
     "data": {
      "text/plain": [
       "np.float64(0.1317109377152161)"
      ]
     },
     "execution_count": 31,
     "metadata": {},
     "output_type": "execute_result"
    }
   ],
   "source": [
    "est.E2_K_source_negative_at_source_negative"
   ]
  },
  {
   "cell_type": "markdown",
   "id": "08998eb3",
   "metadata": {},
   "source": [
    "# expected values"
   ]
  },
  {
   "cell_type": "code",
   "execution_count": 32,
   "id": "2fb305c9",
   "metadata": {},
   "outputs": [
    {
     "data": {
      "text/plain": [
       "np.float64(0.08516249902314961)"
      ]
     },
     "execution_count": 32,
     "metadata": {},
     "output_type": "execute_result"
    }
   ],
   "source": [
    "np.mean(np.mean(est.K_source_positive_source_negative, axis=1))"
   ]
  },
  {
   "cell_type": "code",
   "execution_count": 33,
   "id": "1b3e1faa",
   "metadata": {},
   "outputs": [
    {
     "data": {
      "text/plain": [
       "np.float64(0.08516249902314961)"
      ]
     },
     "execution_count": 33,
     "metadata": {},
     "output_type": "execute_result"
    }
   ],
   "source": [
    "est.U_source_positive_source_negative"
   ]
  },
  {
   "cell_type": "code",
   "execution_count": null,
   "id": "93f66de2",
   "metadata": {},
   "outputs": [],
   "source": []
  },
  {
   "cell_type": "markdown",
   "id": "11f36139",
   "metadata": {},
   "source": [
    "# different"
   ]
  },
  {
   "cell_type": "code",
   "execution_count": 34,
   "id": "7e5039ed",
   "metadata": {},
   "outputs": [
    {
     "data": {
      "text/plain": [
       "np.float64(0.016019223166893866)"
      ]
     },
     "execution_count": 34,
     "metadata": {},
     "output_type": "execute_result"
    }
   ],
   "source": [
    "np.var(np.mean(est.K_source_positive_source_negative, axis=1), ddof=1) + np.mean(np.mean(est.K_source_positive_source_negative, axis=1))**2"
   ]
  },
  {
   "cell_type": "code",
   "execution_count": 35,
   "id": "8322075b",
   "metadata": {},
   "outputs": [
    {
     "data": {
      "text/plain": [
       "np.float64(0.016223398123635793)"
      ]
     },
     "execution_count": 35,
     "metadata": {},
     "output_type": "execute_result"
    }
   ],
   "source": [
    "np.var(np.mean(est.K_source_positive_source_negative, axis=0), ddof=1) + np.mean(np.mean(est.K_source_positive_source_negative, axis=0))**2"
   ]
  },
  {
   "cell_type": "code",
   "execution_count": 36,
   "id": "89c201a3",
   "metadata": {},
   "outputs": [
    {
     "data": {
      "text/plain": [
       "(np.float64(0.016209926037210515), np.float64(0.01599474797674044))"
      ]
     },
     "execution_count": 36,
     "metadata": {},
     "output_type": "execute_result"
    }
   ],
   "source": [
    "est.E2_K_source_positive_at_negative, est.E2_K_source_negative_at_positive"
   ]
  },
  {
   "cell_type": "code",
   "execution_count": 37,
   "id": "a81c8e6a",
   "metadata": {},
   "outputs": [
    {
     "data": {
      "text/plain": [
       "np.float64(0.039366482134723525)"
      ]
     },
     "execution_count": 37,
     "metadata": {},
     "output_type": "execute_result"
    }
   ],
   "source": [
    "est.E2_K_source_negative_at_target"
   ]
  },
  {
   "cell_type": "code",
   "execution_count": 38,
   "id": "9f7b70ca",
   "metadata": {},
   "outputs": [
    {
     "data": {
      "text/plain": [
       "np.float64(0.03940197365770973)"
      ]
     },
     "execution_count": 38,
     "metadata": {},
     "output_type": "execute_result"
    }
   ],
   "source": [
    "np.var(np.mean(est.K_target_source_negative, axis=1), ddof=1) + np.mean(np.mean(est.K_target_source_negative, axis=1))**2"
   ]
  },
  {
   "cell_type": "code",
   "execution_count": 39,
   "id": "1b1589b9",
   "metadata": {},
   "outputs": [
    {
     "data": {
      "text/plain": [
       "np.float64(0.024852025552203914)"
      ]
     },
     "execution_count": 39,
     "metadata": {},
     "output_type": "execute_result"
    }
   ],
   "source": [
    "np.var(np.mean(est.K_target_source_negative, axis=0), ddof=1) + np.mean(np.mean(est.K_target_source_negative, axis=1))**2"
   ]
  }
 ],
 "metadata": {
  "kernelspec": {
   "display_name": "rhks",
   "language": "python",
   "name": "python3"
  },
  "language_info": {
   "codemirror_mode": {
    "name": "ipython",
    "version": 3
   },
   "file_extension": ".py",
   "mimetype": "text/x-python",
   "name": "python",
   "nbconvert_exporter": "python",
   "pygments_lexer": "ipython3",
   "version": "3.13.5"
  }
 },
 "nbformat": 4,
 "nbformat_minor": 5
}
