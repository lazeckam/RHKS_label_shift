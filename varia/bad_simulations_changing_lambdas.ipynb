{
 "cells": [
  {
   "cell_type": "code",
   "execution_count": 1,
   "id": "c4a71236",
   "metadata": {},
   "outputs": [],
   "source": [
    "import numpy as np\n",
    "from tqdm import tqdm\n",
    "import matplotlib.pyplot as plt\n",
    "import seaborn as sns\n",
    "import pandas as pd\n",
    "import itertools\n",
    "\n",
    "from kernels_class import *\n",
    "from rbf_kernel import *\n",
    "from generation import *"
   ]
  },
  {
   "cell_type": "markdown",
   "id": "8eabbe5a",
   "metadata": {},
   "source": [
    "# Basic settings\n",
    "\n",
    "- p = 5\n",
    "- $n_{+} = 250$, $n_{-}=250$, $n' = 500$\n",
    "- $\\mu_{+} = (0,0,\\ldots,0)$,  $\\Sigma_{+} = I_p$\n",
    "- $\\beta = 1$\n",
    "- $\\mu_{-} = \\beta\\cdot(1,1,\\ldots,1)$,  $\\Sigma_{-} = I_p$\n",
    "\n"
   ]
  },
  {
   "cell_type": "code",
   "execution_count": 2,
   "id": "3e5b04e7",
   "metadata": {},
   "outputs": [
    {
     "data": {
      "text/plain": [
       "dict_keys(['beta', 'n_plus', 'n_minus', 'n_target', 'pi_target', 'p', 'seed'])"
      ]
     },
     "execution_count": 2,
     "metadata": {},
     "output_type": "execute_result"
    }
   ],
   "source": [
    "params = {'beta': [0.5, 1],\n",
    "          'n_plus': [500],\n",
    "          'n_minus': [500], \n",
    "          'n_target': [500], \n",
    "          'pi_target': [0.5],\n",
    "          'p': [int(5)],\n",
    "          'seed': [123]}\n",
    "\n",
    "params.keys()"
   ]
  },
  {
   "cell_type": "code",
   "execution_count": 3,
   "id": "3920015d",
   "metadata": {},
   "outputs": [],
   "source": [
    "df_params = pd.DataFrame(itertools.product(*params.values()),columns=params.keys())"
   ]
  },
  {
   "cell_type": "code",
   "execution_count": 4,
   "id": "5af000a5",
   "metadata": {},
   "outputs": [],
   "source": [
    "N = df_params.shape[0]\n",
    "df_results = pd.DataFrame(np.zeros((N,3)), columns=['pi_nmr', 'pi_irp', 'var'])\n",
    "df = pd.concat((df_params, df_results), axis=1)\n",
    "\n",
    "\n",
    "    "
   ]
  },
  {
   "cell_type": "code",
   "execution_count": 5,
   "id": "45c5b738",
   "metadata": {},
   "outputs": [
    {
     "data": {
      "text/plain": [
       "0    5\n",
       "1    5\n",
       "Name: p, dtype: int64"
      ]
     },
     "execution_count": 5,
     "metadata": {},
     "output_type": "execute_result"
    }
   ],
   "source": [
    "df['p']"
   ]
  },
  {
   "cell_type": "code",
   "execution_count": 6,
   "id": "1ed03772",
   "metadata": {},
   "outputs": [
    {
     "data": {
      "text/plain": [
       "{'beta': np.float64(0.5),\n",
       " 'n_plus': np.float64(500.0),\n",
       " 'n_minus': np.float64(500.0),\n",
       " 'n_target': np.float64(500.0),\n",
       " 'pi_target': np.float64(0.5),\n",
       " 'p': np.float64(5.0),\n",
       " 'seed': np.float64(123.0)}"
      ]
     },
     "execution_count": 6,
     "metadata": {},
     "output_type": "execute_result"
    }
   ],
   "source": [
    "dict(df.loc[0, params.keys()])"
   ]
  },
  {
   "cell_type": "code",
   "execution_count": null,
   "id": "9721d994",
   "metadata": {},
   "outputs": [],
   "source": []
  },
  {
   "cell_type": "code",
   "execution_count": 14,
   "id": "d46604ee",
   "metadata": {},
   "outputs": [
    {
     "data": {
      "text/html": [
       "<div>\n",
       "<style scoped>\n",
       "    .dataframe tbody tr th:only-of-type {\n",
       "        vertical-align: middle;\n",
       "    }\n",
       "\n",
       "    .dataframe tbody tr th {\n",
       "        vertical-align: top;\n",
       "    }\n",
       "\n",
       "    .dataframe thead th {\n",
       "        text-align: right;\n",
       "    }\n",
       "</style>\n",
       "<table border=\"1\" class=\"dataframe\">\n",
       "  <thead>\n",
       "    <tr style=\"text-align: right;\">\n",
       "      <th></th>\n",
       "      <th>beta</th>\n",
       "      <th>n_plus</th>\n",
       "      <th>n_minus</th>\n",
       "      <th>n_target</th>\n",
       "      <th>pi_target</th>\n",
       "      <th>p</th>\n",
       "      <th>seed</th>\n",
       "    </tr>\n",
       "  </thead>\n",
       "  <tbody>\n",
       "    <tr>\n",
       "      <th>0</th>\n",
       "      <td>0.5</td>\n",
       "      <td>500</td>\n",
       "      <td>500</td>\n",
       "      <td>500</td>\n",
       "      <td>0.5</td>\n",
       "      <td>5</td>\n",
       "      <td>123</td>\n",
       "    </tr>\n",
       "    <tr>\n",
       "      <th>1</th>\n",
       "      <td>1.0</td>\n",
       "      <td>500</td>\n",
       "      <td>500</td>\n",
       "      <td>500</td>\n",
       "      <td>0.5</td>\n",
       "      <td>5</td>\n",
       "      <td>123</td>\n",
       "    </tr>\n",
       "  </tbody>\n",
       "</table>\n",
       "</div>"
      ],
      "text/plain": [
       "   beta  n_plus  n_minus  n_target  pi_target  p  seed\n",
       "0   0.5     500      500       500        0.5  5   123\n",
       "1   1.0     500      500       500        0.5  5   123"
      ]
     },
     "execution_count": 14,
     "metadata": {},
     "output_type": "execute_result"
    }
   ],
   "source": [
    "df_params"
   ]
  },
  {
   "cell_type": "code",
   "execution_count": 15,
   "id": "0d16820d",
   "metadata": {},
   "outputs": [
    {
     "data": {
      "text/plain": [
       "(   beta  n_plus  n_minus  n_target  pi_target  p  seed  pi_nmr_u  pi_ipr_u  \\\n",
       " 0   0.5     500      500       500        0.5  5   123  0.512454  0.518780   \n",
       " 1   1.0     500      500       500        0.5  5   123  0.501785  0.503776   \n",
       " \n",
       "    pi_nmr_v  pi_ipr_v  var_plug-in  var_explicit  var_plug-in_target  \\\n",
       " 0  0.523816  0.518630     0.428251      0.412417            0.001911   \n",
       " 1  0.505517  0.503797     0.170898      0.169058            0.010958   \n",
       " \n",
       "    var_plug-in_plus  var_plug-in_minus  var_explicit_target  \\\n",
       " 0          0.000357           0.000325             0.001878   \n",
       " 1          0.001042           0.001083             0.010903   \n",
       " \n",
       "    var_explicit_plus  var_explicit_minus  \n",
       " 0           0.000326            0.000293  \n",
       " 1           0.000999            0.001040  ,\n",
       " np.float64(0.17591386302413517))"
      ]
     },
     "execution_count": 15,
     "metadata": {},
     "output_type": "execute_result"
    }
   ],
   "source": [
    "simulation(df_params, generate_sample_Nstd_Nstd_CC, params.keys(), ['pi_nmr_u', 'pi_ipr_u', \n",
    "                                       'pi_nmr_v', 'pi_ipr_v', \n",
    "                                       'var_plug-in', 'var_explicit'])"
   ]
  },
  {
   "cell_type": "code",
   "execution_count": 10,
   "id": "f82d9ea4",
   "metadata": {},
   "outputs": [
    {
     "data": {
      "text/plain": [
       "(array([[-0.57860025,  1.65143654, -2.42667924, -0.42891263,  1.26593626],\n",
       "        [-0.8667404 , -0.67888615, -0.09470897,  1.49138963, -0.638902  ],\n",
       "        [-0.44398196, -0.43435128,  2.20593008,  2.18678609,  1.0040539 ],\n",
       "        ...,\n",
       "        [ 2.79197117, -0.50939499,  0.02085102, -1.15200246, -1.8863966 ],\n",
       "        [ 0.89835491,  0.90545284, -1.37544054, -1.68979089, -0.63588161],\n",
       "        [ 1.66702579, -1.48814135,  0.68179686,  0.13142663, -0.30181745]],\n",
       "       shape=(500, 5)),\n",
       " array([[-0.1046016 ,  0.74498205,  0.18920493,  0.1006796 ,  0.29246025],\n",
       "        [ 1.61162249,  0.71284144,  0.56895192,  1.88257879,  0.23185155],\n",
       "        [ 1.93283757, -0.1758123 ,  1.03114891,  0.17689671,  0.43150372],\n",
       "        ...,\n",
       "        [ 1.16228775, -0.54065638,  1.45384854, -1.41018362,  1.27844784],\n",
       "        [-0.5579392 , -0.62227046, -0.91863786, -1.35971515,  1.41382219],\n",
       "        [-0.85383977,  0.8187635 ,  2.01110387, -0.63662678,  1.14245991]],\n",
       "       shape=(500, 5)),\n",
       " array([[-1.12788175, -0.55356598, -0.96952219, -0.73395995,  0.62916205],\n",
       "        [ 0.10347181, -1.3872595 , -1.2973973 ,  1.3579159 , -1.59457288],\n",
       "        [ 1.48008531, -0.78925059,  0.05038494,  0.2217771 , -0.4813952 ],\n",
       "        ...,\n",
       "        [ 1.33515868, -0.82915205,  0.56882839,  0.54375659,  0.77308336],\n",
       "        [-0.86801987,  2.68689728,  0.93809863,  0.62856783,  1.44759095],\n",
       "        [ 0.31396476,  1.1211718 , -0.24428222, -0.15685221,  1.05410699]],\n",
       "       shape=(500, 5)))"
      ]
     },
     "execution_count": 10,
     "metadata": {},
     "output_type": "execute_result"
    }
   ],
   "source": [
    "generate_sample_Nstd_Nstd_CC(**df.loc[0, params.keys()].to_dict())"
   ]
  },
  {
   "cell_type": "code",
   "execution_count": 11,
   "id": "af6000de",
   "metadata": {},
   "outputs": [],
   "source": [
    "def simulation(c1, c2, c3, N):\n",
    "\n",
    "    n_plus = 250\n",
    "    n_minus = 250\n",
    "    n_target = 500\n",
    "    pi_target = 0.5\n",
    "\n",
    "    p = 5\n",
    "    beta = 1\n",
    "    \n",
    "    for i in tqdm(range(N)):\n",
    "\n",
    "        p_plus, p_minus, p_target = generate_sample_Nstd_Nstd_CC(p, beta,\n",
    "                                                                 n_plus, n_minus, n_target, pi_target)\n",
    "        \n",
    "        est_tmp = estimator_RHKS(p_target, p_plus, p_minus, kernel_params={'gamma': 1/p})\n",
    "        est_tmp.estimate_pi_nrm()\n",
    "        est_tmp.estimate_pi_ipr()\n",
    "\n",
    "        res_nmr[i,j] = est_tmp.pi_nrm\n",
    "        res_ipr[i,j] = est_tmp.pi_ipr\n",
    "\n",
    "        est_tmp.compute_K2()\n",
    "        est_tmp.compute_tau_plug_in()\n",
    "        est_tmp.compute_tau_explicit()\n",
    "\n",
    "        est_tmp.estimate_variance_explicit()\n",
    "        est_tmp.estimate_variance_plug_in()\n",
    "\n",
    "        res_var_plug_in[i,j] = est_tmp.var_plug_in\n",
    "        res_var_explicit[i,j] = est_tmp.var_explicit\n",
    "\n",
    "        \n"
   ]
  },
  {
   "cell_type": "code",
   "execution_count": 12,
   "id": "aef0fbcc",
   "metadata": {},
   "outputs": [
    {
     "ename": "NameError",
     "evalue": "name 'n2' is not defined",
     "output_type": "error",
     "traceback": [
      "\u001b[31m---------------------------------------------------------------------------\u001b[39m",
      "\u001b[31mNameError\u001b[39m                                 Traceback (most recent call last)",
      "\u001b[36mCell\u001b[39m\u001b[36m \u001b[39m\u001b[32mIn[12]\u001b[39m\u001b[32m, line 1\u001b[39m\n\u001b[32m----> \u001b[39m\u001b[32m1\u001b[39m res_nmr = np.zeros((N, \u001b[43mn2\u001b[49m))\n\u001b[32m      2\u001b[39m res_ipr = np.zeros((N, n2))\n\u001b[32m      3\u001b[39m res_var_plug_in = np.zeros((N, n2))\n",
      "\u001b[31mNameError\u001b[39m: name 'n2' is not defined"
     ]
    }
   ],
   "source": [
    "res_nmr = np.zeros((N, n2))\n",
    "res_ipr = np.zeros((N, n2))\n",
    "res_var_plug_in = np.zeros((N, n2))\n",
    "res_var_explicit = np.zeros((N, n2))\n",
    "\n",
    "res_estim_nmr = np.zeros((N, n2))\n",
    "res_estim_ipr = np.zeros((N, n2))\n",
    "\n",
    "delta = np.linspace(0.8, 4, n2)\n",
    "\n",
    "for i in tqdm(range(N)):\n",
    "\n",
    "    p_source_plus, p_source_minus, p_target = generate_sample_fig3(1)\n",
    "\n",
    "    for j in range(n2):\n",
    "        \n",
    "        est_tmp = estimator_RHKS(p_target, p_source_plus, p_source_minus, kernel_params={'gamma': 1/(2*(delta[j]**2))})\n",
    "        est_tmp.estimate_pi_nrm()\n",
    "        est_tmp.estimate_pi_ipr()\n",
    "\n",
    "        res_nmr[i,j] = est_tmp.pi_nrm\n",
    "        res_ipr[i,j] = est_tmp.pi_ipr\n",
    "\n",
    "        est_tmp.compute_K2()\n",
    "        est_tmp.compute_tau_plug_in()\n",
    "        est_tmp.compute_tau_explicit()\n",
    "\n",
    "        est_tmp.estimate_variance_explicit()\n",
    "        est_tmp.estimate_variance_plug_in()\n",
    "\n",
    "        res_var_plug_in[i,j] = est_tmp.var_plug_in\n",
    "\n",
    "        res_var_explicit[i,j] = est_tmp.var_explicit\n",
    "\n",
    "        var_est, tar_est, pos_est, neg_est = variance_for_rbf(np.mean(p_source_plus, 0), np.cov(p_source_plus.T), \n",
    "                                                              np.mean(p_source_minus, 0), np.cov(p_source_plus.T), est_tmp.pi_nrm, \n",
    "                 1/(r*n_target),1/(r*n_source_plus),1/(r*n_source_minus), gamma=1/(2*(delta[j])**2))\n",
    "\n",
    "        res_estim_nmr[i,j] = var_est\n",
    "\n",
    "        var_est, tar_est, pos_est, neg_est = variance_for_rbf(np.mean(p_source_plus, 0), np.cov(p_source_plus.T), \n",
    "                                                              np.mean(p_source_minus, 0), np.cov(p_source_plus.T), est_tmp.pi_ipr, \n",
    "                 1/(r*n_target),1/(r*n_source_plus),1/(r*n_source_minus), gamma=1/(2*(delta[j])**2))\n",
    "        res_estim_ipr[i,j] = var_est\n"
   ]
  }
 ],
 "metadata": {
  "kernelspec": {
   "display_name": "rhks",
   "language": "python",
   "name": "python3"
  },
  "language_info": {
   "codemirror_mode": {
    "name": "ipython",
    "version": 3
   },
   "file_extension": ".py",
   "mimetype": "text/x-python",
   "name": "python",
   "nbconvert_exporter": "python",
   "pygments_lexer": "ipython3",
   "version": "3.13.5"
  }
 },
 "nbformat": 4,
 "nbformat_minor": 5
}
