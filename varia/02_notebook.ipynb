{
 "cells": [
  {
   "cell_type": "code",
   "execution_count": 65,
   "id": "a1eed07b",
   "metadata": {},
   "outputs": [],
   "source": [
    "import numpy as np\n",
    "from tqdm import tqdm\n",
    "import matplotlib.pyplot as plt\n",
    "from kernels_class import *"
   ]
  },
  {
   "cell_type": "markdown",
   "id": "4ce924e5",
   "metadata": {},
   "source": [
    "# check variance"
   ]
  },
  {
   "cell_type": "code",
   "execution_count": 66,
   "id": "1e4ba062",
   "metadata": {},
   "outputs": [],
   "source": [
    "def generate_sample(scale):\n",
    "    n_source_plus = int(250*scale)\n",
    "    n_source_minus = int(50*scale)\n",
    "    n_source = n_source_plus + n_source_minus\n",
    "    pi_source = n_source_plus/n_source\n",
    "\n",
    "    n_target_plus = int(400*scale)\n",
    "    n_target_minus = int(100*scale)\n",
    "    n_target = n_target_plus + n_target_minus\n",
    "    pi_target = n_target_plus/n_target\n",
    "\n",
    "    p_source_plus = np.random.normal(loc=np.array([0,0]), size=(n_source_plus, 2))\n",
    "    p_source_minus = np.random.normal(loc=np.array([2,2]), size=(n_source_minus, 2))\n",
    "\n",
    "    p_target_plus = np.random.normal(loc=np.array([0,0]), size=(n_target_plus, 2))\n",
    "    p_target_minus = np.random.normal(loc=np.array([2,2]), size=(n_target_minus, 2))\n",
    "\n",
    "    p_target = np.vstack((p_target_plus, p_target_minus))\n",
    "\n",
    "    return p_source_plus, p_source_minus, p_target"
   ]
  },
  {
   "cell_type": "markdown",
   "id": "0ac550a8",
   "metadata": {},
   "source": [
    "### nrm estimator"
   ]
  },
  {
   "cell_type": "code",
   "execution_count": 67,
   "id": "936e7ff1",
   "metadata": {},
   "outputs": [],
   "source": [
    "scale0 = 20"
   ]
  },
  {
   "cell_type": "code",
   "execution_count": 68,
   "id": "bb862d91",
   "metadata": {},
   "outputs": [],
   "source": [
    "p_source_plus, p_source_minus, p_target = generate_sample(scale0)"
   ]
  },
  {
   "cell_type": "code",
   "execution_count": 69,
   "id": "b7b76ad9",
   "metadata": {},
   "outputs": [],
   "source": [
    "est = estimator_RHKS(p_target, p_source_plus, p_source_minus)"
   ]
  },
  {
   "cell_type": "code",
   "execution_count": 70,
   "id": "cc971253",
   "metadata": {},
   "outputs": [],
   "source": [
    "est.estimate_pi_nrm()"
   ]
  },
  {
   "cell_type": "code",
   "execution_count": 71,
   "id": "daaf4efd",
   "metadata": {},
   "outputs": [
    {
     "data": {
      "text/plain": [
       "np.float64(0.7972791264892857)"
      ]
     },
     "execution_count": 71,
     "metadata": {},
     "output_type": "execute_result"
    }
   ],
   "source": [
    "est.pi_nrm"
   ]
  },
  {
   "cell_type": "code",
   "execution_count": 72,
   "id": "e3bcc771",
   "metadata": {},
   "outputs": [],
   "source": [
    "est.compute_sigmas2_nrm_1()\n",
    "est.compute_variance_nrm_1()"
   ]
  },
  {
   "cell_type": "code",
   "execution_count": 73,
   "id": "47e12b89",
   "metadata": {},
   "outputs": [
    {
     "data": {
      "text/plain": [
       "np.float64(0.033875157266070176)"
      ]
     },
     "execution_count": 73,
     "metadata": {},
     "output_type": "execute_result"
    }
   ],
   "source": [
    "est.compute_variance_nrm_1_known_pi(0.8)"
   ]
  },
  {
   "cell_type": "code",
   "execution_count": 74,
   "id": "bcfeb647",
   "metadata": {},
   "outputs": [
    {
     "data": {
      "text/plain": [
       "np.float64(0.0340379334513582)"
      ]
     },
     "execution_count": 74,
     "metadata": {},
     "output_type": "execute_result"
    }
   ],
   "source": [
    "est.var_nrm_1"
   ]
  },
  {
   "cell_type": "code",
   "execution_count": 75,
   "id": "ceccd3cf",
   "metadata": {},
   "outputs": [],
   "source": [
    "est.compute_K2()\n",
    "est.compute_sigmas2_nrm_2()\n",
    "est.compute_variance_nrm_2()"
   ]
  },
  {
   "cell_type": "code",
   "execution_count": 76,
   "id": "0de34567",
   "metadata": {},
   "outputs": [
    {
     "data": {
      "text/plain": [
       "np.float64(0.0983506270425409)"
      ]
     },
     "execution_count": 76,
     "metadata": {},
     "output_type": "execute_result"
    }
   ],
   "source": [
    "est.var_nrm_2"
   ]
  },
  {
   "cell_type": "code",
   "execution_count": 77,
   "id": "0d944d6e",
   "metadata": {},
   "outputs": [
    {
     "data": {
      "text/plain": [
       "np.float64(0.09768276566643905)"
      ]
     },
     "execution_count": 77,
     "metadata": {},
     "output_type": "execute_result"
    }
   ],
   "source": [
    "est.compute_variance_nrm_2_known_pi(0.8)"
   ]
  },
  {
   "cell_type": "markdown",
   "id": "faca320d",
   "metadata": {},
   "source": [
    "# scale var"
   ]
  },
  {
   "cell_type": "code",
   "execution_count": 56,
   "id": "ea2ab833",
   "metadata": {},
   "outputs": [],
   "source": [
    "N = 100\n",
    "scale_seq = [5, 10, 12.5, 15]"
   ]
  },
  {
   "cell_type": "code",
   "execution_count": 57,
   "id": "e1534a98",
   "metadata": {},
   "outputs": [
    {
     "name": "stderr",
     "output_type": "stream",
     "text": [
      "100%|██████████| 100/100 [07:07<00:00,  4.28s/it]\n"
     ]
    }
   ],
   "source": [
    "res1 = np.zeros((N, len(scale_seq)))\n",
    "# res2 = \n",
    "\n",
    "for i in tqdm(range(N)):\n",
    "    for j in range(len(scale_seq)):\n",
    "\n",
    "        p_source_plus, p_source_minus, p_target = generate_sample(scale_seq[j])\n",
    "        est_tmp = estimator_RHKS(p_target, p_source_plus, p_source_minus)\n",
    "        est_tmp.estimate_pi_nrm()\n",
    "\n",
    "        res1[i, j] = est_tmp.pi_nrm"
   ]
  },
  {
   "cell_type": "code",
   "execution_count": 58,
   "id": "fc435867",
   "metadata": {},
   "outputs": [
    {
     "data": {
      "image/png": "[encoded data removed]",
      "text/plain": [
       "<Figure size 640x480 with 1 Axes>"
      ]
     },
     "metadata": {},
     "output_type": "display_data"
    }
   ],
   "source": [
    "plt.boxplot(res1)\n",
    "# plt.plot([(n_target_plus/n_target),(n_target_plus/n_target)], [0,30])\n",
    "plt.show()"
   ]
  },
  {
   "cell_type": "code",
   "execution_count": 59,
   "id": "5c804885",
   "metadata": {},
   "outputs": [],
   "source": [
    "n_source_plus = 250*np.array(scale_seq)\n",
    "n_source_minus = 250*np.array(scale_seq)\n",
    "n_target = 500*np.array(scale_seq)\n",
    "denominator = 1/n_source_plus + 1/n_source_minus + 1/n_target"
   ]
  },
  {
   "cell_type": "code",
   "execution_count": null,
   "id": "2c7decda",
   "metadata": {},
   "outputs": [],
   "source": []
  },
  {
   "cell_type": "code",
   "execution_count": 62,
   "id": "27bec479",
   "metadata": {},
   "outputs": [
    {
     "data": {
      "text/plain": [
       "array([0.04906432, 0.04972073, 0.05522735, 0.05989652])"
      ]
     },
     "execution_count": 62,
     "metadata": {},
     "output_type": "execute_result"
    }
   ],
   "source": [
    "np.var((res1-0.8)/np.sqrt(denominator), axis=0)"
   ]
  },
  {
   "cell_type": "code",
   "execution_count": 64,
   "id": "adf806ba",
   "metadata": {},
   "outputs": [
    {
     "data": {
      "image/png": "[encoded data removed]",
      "text/plain": [
       "<Figure size 640x480 with 1 Axes>"
      ]
     },
     "metadata": {},
     "output_type": "display_data"
    }
   ],
   "source": [
    "plt.boxplot((res1 - 0.8)/np.sqrt(denominator))\n",
    "# plt.plot([(n_target_plus/n_target),(n_target_plus/n_target)], [0,30])\n",
    "plt.show()"
   ]
  },
  {
   "cell_type": "code",
   "execution_count": 116,
   "id": "bad47ba0",
   "metadata": {},
   "outputs": [],
   "source": [
    "x_seq = np.linspace(-2,2, 100)\n",
    "from scipy.stats import norm\n",
    "y_seq1 = norm.pdf(x_seq, loc=0,  scale=np.sqrt((est.var_nrm_1)))\n",
    "y_seq2 = norm.pdf(x_seq, loc=0,  scale=np.sqrt((est.var_nrm_2)))\n",
    "y_seq3 = norm.pdf(x_seq, loc=0,  scale=0.65)"
   ]
  },
  {
   "cell_type": "code",
   "execution_count": 117,
   "id": "2251d584",
   "metadata": {},
   "outputs": [
    {
     "data": {
      "text/plain": [
       "np.float64(0.2792708526258495)"
      ]
     },
     "execution_count": 117,
     "metadata": {},
     "output_type": "execute_result"
    }
   ],
   "source": [
    "np.sqrt((est.var_nrm_1))"
   ]
  },
  {
   "cell_type": "code",
   "execution_count": 118,
   "id": "3a2e8c44",
   "metadata": {},
   "outputs": [
    {
     "data": {
      "text/plain": [
       "983.6065573770491"
      ]
     },
     "execution_count": 118,
     "metadata": {},
     "output_type": "execute_result"
    }
   ],
   "source": [
    "denominator = est.s_n\n",
    "1/denominator"
   ]
  },
  {
   "cell_type": "code",
   "execution_count": 14,
   "id": "b77c82d0",
   "metadata": {},
   "outputs": [
    {
     "ename": "NameError",
     "evalue": "name 'res1' is not defined",
     "output_type": "error",
     "traceback": [
      "\u001b[31m---------------------------------------------------------------------------\u001b[39m",
      "\u001b[31mNameError\u001b[39m                                 Traceback (most recent call last)",
      "\u001b[36mCell\u001b[39m\u001b[36m \u001b[39m\u001b[32mIn[14]\u001b[39m\u001b[32m, line 1\u001b[39m\n\u001b[32m----> \u001b[39m\u001b[32m1\u001b[39m np.var((\u001b[43mres1\u001b[49m - \u001b[32m0.8\u001b[39m)/np.sqrt(denominator))\n",
      "\u001b[31mNameError\u001b[39m: name 'res1' is not defined"
     ]
    }
   ],
   "source": [
    "np.var((res1 - 0.8)/np.sqrt(denominator))"
   ]
  },
  {
   "cell_type": "code",
   "execution_count": null,
   "id": "1589bd4c",
   "metadata": {},
   "outputs": [
    {
     "data": {
      "image/png": "[encoded data removed]",
      "text/plain": [
       "<Figure size 640x480 with 1 Axes>"
      ]
     },
     "metadata": {},
     "output_type": "display_data"
    }
   ],
   "source": [
    "plt.hist((res1 - (n_target_plus/n_target))/np.sqrt(denominator), density=True)\n",
    "plt.plot(x_seq, y_seq1)\n",
    "plt.plot(x_seq, y_seq2)\n",
    "plt.plot(x_seq, y_seq3)\n",
    "plt.show()"
   ]
  },
  {
   "cell_type": "code",
   "execution_count": 34,
   "id": "f7bd6089",
   "metadata": {},
   "outputs": [],
   "source": [
    "def RBF_kernel(x, y, sigma=1.0, gamma=None):\n",
    "    \"\"\"Evaluates the radial basis function (RBF) kernel on input arrays.\n",
    "\n",
    "    Parameters\n",
    "    ----------\n",
    "    x, y : array like\n",
    "        Input values.\n",
    "\n",
    "    sigma : float\n",
    "        Param\n",
    "\n",
    "    gamma : float\n",
    "        Param\n",
    "\n",
    "    Returns\n",
    "    -------\n",
    "    ndarray\n",
    "        RBF kernel evaluated on x and y.\n",
    "    \"\"\" \n",
    "    RBF_result = None\n",
    "\n",
    "    if sigma is not None:\n",
    "        RBF_result = np.exp(-1/(sigma**2) * cdist(x, y, metric=\"sqeuclidean\"))\n",
    "\n",
    "    if sigma is None and gamma is not None:\n",
    "        RBF_result = np.exp(-gamma * cdist(x, y, metric=\"sqeuclidean\"))\n",
    "\n",
    "    return RBF_result\n",
    "\n",
    "def E_Phi_squared(k_x_x, z=None):\n",
    "    if z is not None:\n",
    "        # k_x_z = RBF_kernel(x,z)\n",
    "        res = 0\n",
    "        # den = 0\n",
    "        # for i in range(1):\n",
    "        #     for j in range(1,x.shape[0]):\n",
    "        #         for k in range(1,x.shape[0]):#range(j, x.shape[0]):\n",
    "        #             if k != j:\n",
    "        #                 res += k_x_z[j,i]*k_x_z[k,i]\n",
    "        #                 den += 1\n",
    "        # res = res/den\n",
    "        return res\n",
    "    else:\n",
    "        # k_x_x = RBF_kernel(x,x)\n",
    "        res = np.zeros(k_x_x.shape[0])\n",
    "        den = 0\n",
    "        for i in range(k_x_x.shape[0]):\n",
    "            for j in range(k_x_x.shape[0]):\n",
    "                if j != i:\n",
    "                    for k in range(k_x_x.shape[0]):\n",
    "                        if k != j and k != i:\n",
    "                            res[i] += k_x_x[i,j]*k_x_x[i,k]\n",
    "                            den += 1\n",
    "        res = res/den\n",
    "        return res"
   ]
  },
  {
   "cell_type": "code",
   "execution_count": null,
   "id": "732cb829",
   "metadata": {},
   "outputs": [],
   "source": [
    "def E_K_X1_X2_K_X1_X3(K_X_X):\n",
    "\n",
    "    K_X_X_no_diag = K_X_X.copy()\n",
    "    np.fill_diagonal(K_X_X_no_diag, 0)\n",
    "    \n",
    "    # Row sums and row squared sums (excluding diagonal)\n",
    "    row_sums = np.sum(K_X_X_no_diag, axis=0)\n",
    "    row_sums_sq = row_sums**2\n",
    "    row_sq_sums = np.sum(K_X_X_no_diag**2, axis=0)\n",
    "    \n",
    "    # Final result\n",
    "    result =(row_sums_sq - row_sq_sums)\n",
    "\n",
    "    n = K_X_X.shape[0]\n",
    "\n",
    "    return result/(n*(n-1)*(n-2))"
   ]
  },
  {
   "cell_type": "code",
   "execution_count": null,
   "id": "f4938e4f",
   "metadata": {},
   "outputs": [],
   "source": [
    "res1 = E_K_X1_X2_K_X1_X3(est.K_target_target)"
   ]
  },
  {
   "cell_type": "code",
   "execution_count": null,
   "id": "34f3ef9f",
   "metadata": {},
   "outputs": [],
   "source": [
    "res2 = np.sum(E_Phi_squared(est.K_target_target))"
   ]
  },
  {
   "cell_type": "code",
   "execution_count": null,
   "id": "dcd72843",
   "metadata": {},
   "outputs": [
    {
     "data": {
      "text/plain": [
       "(np.float64(0.06843004544466771), np.float64(0.06843004544466764))"
      ]
     },
     "execution_count": 17,
     "metadata": {},
     "output_type": "execute_result"
    }
   ],
   "source": [
    "np.sum(res1), res2"
   ]
  },
  {
   "cell_type": "code",
   "execution_count": null,
   "id": "bdcaebc0",
   "metadata": {},
   "outputs": [
    {
     "ename": "ValueError",
     "evalue": "x and y must have same first dimension, but have shapes (500,) and (1,)",
     "output_type": "error",
     "traceback": [
      "\u001b[31m---------------------------------------------------------------------------\u001b[39m",
      "\u001b[31mValueError\u001b[39m                                Traceback (most recent call last)",
      "\u001b[36mCell\u001b[39m\u001b[36m \u001b[39m\u001b[32mIn[18]\u001b[39m\u001b[32m, line 1\u001b[39m\n\u001b[32m----> \u001b[39m\u001b[32m1\u001b[39m \u001b[43mplt\u001b[49m\u001b[43m.\u001b[49m\u001b[43mplot\u001b[49m\u001b[43m(\u001b[49m\u001b[43mres1\u001b[49m\u001b[43m,\u001b[49m\u001b[43m \u001b[49m\u001b[43mres2\u001b[49m\u001b[43m,\u001b[49m\u001b[43m \u001b[49m\u001b[33;43m'\u001b[39;49m\u001b[33;43mo\u001b[39;49m\u001b[33;43m'\u001b[39;49m\u001b[43m)\u001b[49m\n",
      "\u001b[36mFile \u001b[39m\u001b[32m~/miniconda3/envs/rhks/lib/python3.13/site-packages/matplotlib/pyplot.py:3838\u001b[39m, in \u001b[36mplot\u001b[39m\u001b[34m(scalex, scaley, data, *args, **kwargs)\u001b[39m\n\u001b[32m   3830\u001b[39m \u001b[38;5;129m@_copy_docstring_and_deprecators\u001b[39m(Axes.plot)\n\u001b[32m   3831\u001b[39m \u001b[38;5;28;01mdef\u001b[39;00m\u001b[38;5;250m \u001b[39m\u001b[34mplot\u001b[39m(\n\u001b[32m   3832\u001b[39m     *args: \u001b[38;5;28mfloat\u001b[39m | ArrayLike | \u001b[38;5;28mstr\u001b[39m,\n\u001b[32m   (...)\u001b[39m\u001b[32m   3836\u001b[39m     **kwargs,\n\u001b[32m   3837\u001b[39m ) -> \u001b[38;5;28mlist\u001b[39m[Line2D]:\n\u001b[32m-> \u001b[39m\u001b[32m3838\u001b[39m     \u001b[38;5;28;01mreturn\u001b[39;00m \u001b[43mgca\u001b[49m\u001b[43m(\u001b[49m\u001b[43m)\u001b[49m\u001b[43m.\u001b[49m\u001b[43mplot\u001b[49m\u001b[43m(\u001b[49m\n\u001b[32m   3839\u001b[39m \u001b[43m        \u001b[49m\u001b[43m*\u001b[49m\u001b[43margs\u001b[49m\u001b[43m,\u001b[49m\n\u001b[32m   3840\u001b[39m \u001b[43m        \u001b[49m\u001b[43mscalex\u001b[49m\u001b[43m=\u001b[49m\u001b[43mscalex\u001b[49m\u001b[43m,\u001b[49m\n\u001b[32m   3841\u001b[39m \u001b[43m        \u001b[49m\u001b[43mscaley\u001b[49m\u001b[43m=\u001b[49m\u001b[43mscaley\u001b[49m\u001b[43m,\u001b[49m\n\u001b[32m   3842\u001b[39m \u001b[43m        \u001b[49m\u001b[43m*\u001b[49m\u001b[43m*\u001b[49m\u001b[43m(\u001b[49m\u001b[43m{\u001b[49m\u001b[33;43m\"\u001b[39;49m\u001b[33;43mdata\u001b[39;49m\u001b[33;43m\"\u001b[39;49m\u001b[43m:\u001b[49m\u001b[43m \u001b[49m\u001b[43mdata\u001b[49m\u001b[43m}\u001b[49m\u001b[43m \u001b[49m\u001b[38;5;28;43;01mif\u001b[39;49;00m\u001b[43m \u001b[49m\u001b[43mdata\u001b[49m\u001b[43m \u001b[49m\u001b[38;5;129;43;01mis\u001b[39;49;00m\u001b[43m \u001b[49m\u001b[38;5;129;43;01mnot\u001b[39;49;00m\u001b[43m \u001b[49m\u001b[38;5;28;43;01mNone\u001b[39;49;00m\u001b[43m \u001b[49m\u001b[38;5;28;43;01melse\u001b[39;49;00m\u001b[43m \u001b[49m\u001b[43m{\u001b[49m\u001b[43m}\u001b[49m\u001b[43m)\u001b[49m\u001b[43m,\u001b[49m\n\u001b[32m   3843\u001b[39m \u001b[43m        \u001b[49m\u001b[43m*\u001b[49m\u001b[43m*\u001b[49m\u001b[43mkwargs\u001b[49m\u001b[43m,\u001b[49m\n\u001b[32m   3844\u001b[39m \u001b[43m    \u001b[49m\u001b[43m)\u001b[49m\n",
      "\u001b[36mFile \u001b[39m\u001b[32m~/miniconda3/envs/rhks/lib/python3.13/site-packages/matplotlib/axes/_axes.py:1777\u001b[39m, in \u001b[36mAxes.plot\u001b[39m\u001b[34m(self, scalex, scaley, data, *args, **kwargs)\u001b[39m\n\u001b[32m   1534\u001b[39m \u001b[38;5;250m\u001b[39m\u001b[33;03m\"\"\"\u001b[39;00m\n\u001b[32m   1535\u001b[39m \u001b[33;03mPlot y versus x as lines and/or markers.\u001b[39;00m\n\u001b[32m   1536\u001b[39m \n\u001b[32m   (...)\u001b[39m\u001b[32m   1774\u001b[39m \u001b[33;03m(``'green'``) or hex strings (``'#008000'``).\u001b[39;00m\n\u001b[32m   1775\u001b[39m \u001b[33;03m\"\"\"\u001b[39;00m\n\u001b[32m   1776\u001b[39m kwargs = cbook.normalize_kwargs(kwargs, mlines.Line2D)\n\u001b[32m-> \u001b[39m\u001b[32m1777\u001b[39m lines = [*\u001b[38;5;28mself\u001b[39m._get_lines(\u001b[38;5;28mself\u001b[39m, *args, data=data, **kwargs)]\n\u001b[32m   1778\u001b[39m \u001b[38;5;28;01mfor\u001b[39;00m line \u001b[38;5;129;01min\u001b[39;00m lines:\n\u001b[32m   1779\u001b[39m     \u001b[38;5;28mself\u001b[39m.add_line(line)\n",
      "\u001b[36mFile \u001b[39m\u001b[32m~/miniconda3/envs/rhks/lib/python3.13/site-packages/matplotlib/axes/_base.py:297\u001b[39m, in \u001b[36m_process_plot_var_args.__call__\u001b[39m\u001b[34m(self, axes, data, return_kwargs, *args, **kwargs)\u001b[39m\n\u001b[32m    295\u001b[39m     this += args[\u001b[32m0\u001b[39m],\n\u001b[32m    296\u001b[39m     args = args[\u001b[32m1\u001b[39m:]\n\u001b[32m--> \u001b[39m\u001b[32m297\u001b[39m \u001b[38;5;28;01myield from\u001b[39;00m \u001b[38;5;28;43mself\u001b[39;49m\u001b[43m.\u001b[49m\u001b[43m_plot_args\u001b[49m\u001b[43m(\u001b[49m\n\u001b[32m    298\u001b[39m \u001b[43m    \u001b[49m\u001b[43maxes\u001b[49m\u001b[43m,\u001b[49m\u001b[43m \u001b[49m\u001b[43mthis\u001b[49m\u001b[43m,\u001b[49m\u001b[43m \u001b[49m\u001b[43mkwargs\u001b[49m\u001b[43m,\u001b[49m\u001b[43m \u001b[49m\u001b[43mambiguous_fmt_datakey\u001b[49m\u001b[43m=\u001b[49m\u001b[43mambiguous_fmt_datakey\u001b[49m\u001b[43m,\u001b[49m\n\u001b[32m    299\u001b[39m \u001b[43m    \u001b[49m\u001b[43mreturn_kwargs\u001b[49m\u001b[43m=\u001b[49m\u001b[43mreturn_kwargs\u001b[49m\n\u001b[32m    300\u001b[39m \u001b[43m\u001b[49m\u001b[43m)\u001b[49m\n",
      "\u001b[36mFile \u001b[39m\u001b[32m~/miniconda3/envs/rhks/lib/python3.13/site-packages/matplotlib/axes/_base.py:494\u001b[39m, in \u001b[36m_process_plot_var_args._plot_args\u001b[39m\u001b[34m(self, axes, tup, kwargs, return_kwargs, ambiguous_fmt_datakey)\u001b[39m\n\u001b[32m    491\u001b[39m     axes.yaxis.update_units(y)\n\u001b[32m    493\u001b[39m \u001b[38;5;28;01mif\u001b[39;00m x.shape[\u001b[32m0\u001b[39m] != y.shape[\u001b[32m0\u001b[39m]:\n\u001b[32m--> \u001b[39m\u001b[32m494\u001b[39m     \u001b[38;5;28;01mraise\u001b[39;00m \u001b[38;5;167;01mValueError\u001b[39;00m(\u001b[33mf\u001b[39m\u001b[33m\"\u001b[39m\u001b[33mx and y must have same first dimension, but \u001b[39m\u001b[33m\"\u001b[39m\n\u001b[32m    495\u001b[39m                      \u001b[33mf\u001b[39m\u001b[33m\"\u001b[39m\u001b[33mhave shapes \u001b[39m\u001b[38;5;132;01m{\u001b[39;00mx.shape\u001b[38;5;132;01m}\u001b[39;00m\u001b[33m and \u001b[39m\u001b[38;5;132;01m{\u001b[39;00my.shape\u001b[38;5;132;01m}\u001b[39;00m\u001b[33m\"\u001b[39m)\n\u001b[32m    496\u001b[39m \u001b[38;5;28;01mif\u001b[39;00m x.ndim > \u001b[32m2\u001b[39m \u001b[38;5;129;01mor\u001b[39;00m y.ndim > \u001b[32m2\u001b[39m:\n\u001b[32m    497\u001b[39m     \u001b[38;5;28;01mraise\u001b[39;00m \u001b[38;5;167;01mValueError\u001b[39;00m(\u001b[33mf\u001b[39m\u001b[33m\"\u001b[39m\u001b[33mx and y can be no greater than 2D, but have \u001b[39m\u001b[33m\"\u001b[39m\n\u001b[32m    498\u001b[39m                      \u001b[33mf\u001b[39m\u001b[33m\"\u001b[39m\u001b[33mshapes \u001b[39m\u001b[38;5;132;01m{\u001b[39;00mx.shape\u001b[38;5;132;01m}\u001b[39;00m\u001b[33m and \u001b[39m\u001b[38;5;132;01m{\u001b[39;00my.shape\u001b[38;5;132;01m}\u001b[39;00m\u001b[33m\"\u001b[39m)\n",
      "\u001b[31mValueError\u001b[39m: x and y must have same first dimension, but have shapes (500,) and (1,)"
     ]
    },
    {
     "data": {
      "image/png": "[encoded data removed]",
      "text/plain": [
       "<Figure size 640x480 with 1 Axes>"
      ]
     },
     "metadata": {},
     "output_type": "display_data"
    }
   ],
   "source": [
    "plt.plot(res1, res2, 'o')"
   ]
  },
  {
   "cell_type": "code",
   "execution_count": null,
   "id": "b12df2af",
   "metadata": {},
   "outputs": [
    {
     "data": {
      "text/plain": [
       "(array([23943.19721905, 37501.90476083, 33016.60983946,  3761.03266923,\n",
       "        18860.4682658 ]),\n",
       " array([23943.19721905, 37501.90476083, 33016.60983946,  3761.03266923,\n",
       "        18860.4682658 ]))"
      ]
     },
     "execution_count": 63,
     "metadata": {},
     "output_type": "execute_result"
    }
   ],
   "source": [
    "res1[:5], res2[:5]"
   ]
  },
  {
   "cell_type": "code",
   "execution_count": null,
   "id": "3a6d98b2",
   "metadata": {},
   "outputs": [],
   "source": [
    "def E_K_X1_Y1_K_X1_Y2(K_X_Y):\n",
    "\n",
    "    n_X = K_X_Y.shape[0]\n",
    "    n_Y = K_X_Y.shape[1]\n",
    "    \n",
    "    squared_sum_Y1_K_X1_Y1 = np.sum(K_X_Y, axis=1)**2\n",
    "    print(squared_sum_Y1_K_X1_Y1.shape)\n",
    "    sum_Y1_squared_K_X1_Y1 = np.sum(K_X_Y**2, axis=1)\n",
    "    \n",
    "    sum_X1 = np.sum(squared_sum_Y1_K_X1_Y1 - sum_Y1_squared_K_X1_Y1)\n",
    "\n",
    "    return sum_X1/(n_X*n_Y*(n_Y-1))"
   ]
  },
  {
   "cell_type": "code",
   "execution_count": null,
   "id": "85493804",
   "metadata": {},
   "outputs": [
    {
     "name": "stdout",
     "output_type": "stream",
     "text": [
      "(500,)\n"
     ]
    },
    {
     "data": {
      "text/plain": [
       "np.float64(0.03563490555873755)"
      ]
     },
     "execution_count": 76,
     "metadata": {},
     "output_type": "execute_result"
    }
   ],
   "source": [
    "E_K_X1_Y1_K_X1_Y2(est.K_target_source_negative)"
   ]
  },
  {
   "cell_type": "code",
   "execution_count": null,
   "id": "c1ace06e",
   "metadata": {},
   "outputs": [],
   "source": []
  }
 ],
 "metadata": {
  "kernelspec": {
   "display_name": "rhks",
   "language": "python",
   "name": "python3"
  },
  "language_info": {
   "codemirror_mode": {
    "name": "ipython",
    "version": 3
   },
   "file_extension": ".py",
   "mimetype": "text/x-python",
   "name": "python",
   "nbconvert_exporter": "python",
   "pygments_lexer": "ipython3",
   "version": "3.13.5"
  }
 },
 "nbformat": 4,
 "nbformat_minor": 5
}
